{
  "nbformat": 4,
  "nbformat_minor": 0,
  "metadata": {
    "colab": {
      "provenance": [],
      "gpuType": "T4"
    },
    "kernelspec": {
      "name": "python3",
      "display_name": "Python 3"
    },
    "language_info": {
      "name": "python"
    },
    "accelerator": "GPU"
  },
  "cells": [
    {
      "cell_type": "markdown",
      "source": [
        "**1.What is TensorFlow 2.0, and how is it different from TensorFlow 1.x?**"
      ],
      "metadata": {
        "id": "EUo4xSUUNHkm"
      }
    },
    {
      "cell_type": "markdown",
      "source": [
        "Ans:\n",
        "TensorFlow 2.0 is a major update to TensorFlow, Google's open-source machine learning library, designed to simplify the framework and make it more intuitive and user-friendly. TensorFlow 2.0 introduces significant changes compared to TensorFlow 1.x, addressing some of the complexities and usability challenges of the earlier version.\n",
        "\n",
        "---\n",
        "\n",
        "### **Key Features of TensorFlow 2.0**\n",
        "1. **Eager Execution Enabled by Default**:\n",
        "   - TensorFlow 2.0 uses *eager execution* as the default mode, allowing immediate evaluation of operations, which makes debugging and development easier. In TensorFlow 1.x, users had to build a computational graph and then execute it in a session.\n",
        "\n",
        "2. **Simplified API**:\n",
        "   - The API is more user-friendly and Pythonic.\n",
        "   - Redundant and outdated APIs (e.g., `tf.app`, `tf.flags`, `tf.contrib`) have been removed.\n",
        "   - Core functionality is consolidated under fewer modules, such as `tf.keras` for high-level APIs and `tf.data` for data handling.\n",
        "\n",
        "3. **Integration with Keras**:\n",
        "   - TensorFlow 2.0 fully integrates Keras (`tf.keras`) as its high-level API, making it easier to build and train deep learning models.\n",
        "   - This eliminates the need for separate Keras installations.\n",
        "\n",
        "4. **Autograph and `@tf.function`**:\n",
        "   - The `@tf.function` decorator automatically converts Python functions into TensorFlow graphs for performance optimization. This bridges the gap between eager execution and graph execution.\n",
        "\n",
        "5. **Improved Model Building**:\n",
        "   - TensorFlow 2.0 allows for dynamic and interactive model building with support for imperative programming through eager execution.\n",
        "   - Custom training loops are easier to implement using the `GradientTape` API.\n",
        "\n",
        "6. **Simplified Distributed Training**:\n",
        "   - TensorFlow 2.0 simplifies distributed training using strategies like `tf.distribute.MirroredStrategy`, making multi-GPU and multi-node training more accessible.\n",
        "\n",
        "7. **Better Support for TensorFlow Lite, TensorFlow.js, and TensorFlow Extended (TFX)**:\n",
        "   - TensorFlow 2.0 improves the deployment pipeline for mobile, web, and production environments.\n",
        "\n",
        "8. **Enhanced Documentation and Community Support**:\n",
        "   - TensorFlow 2.0 comes with better documentation, tutorials, and examples.\n",
        "\n",
        "---\n",
        "\n",
        "### **Differences Between TensorFlow 2.0 and TensorFlow 1.x**\n",
        "| **Aspect**                   | **TensorFlow 1.x**                                   | **TensorFlow 2.0**                               |\n",
        "|------------------------------|-----------------------------------------------------|-------------------------------------------------|\n",
        "| **Execution Mode**           | Static graph by default; required sessions.         | Eager execution by default; no sessions needed. |\n",
        "| **Model Building**           | Separate graph construction and execution phases.   | Unified eager and graph execution with `@tf.function`. |\n",
        "| **High-Level API**           | Limited support for Keras.                          | Fully integrates `tf.keras` as the high-level API. |\n",
        "| **API Complexity**           | Numerous redundant APIs and submodules.             | Simplified, modular, and Pythonic API.          |\n",
        "| **Debugging**                | Debugging was complex due to static graphs.         | Easier debugging with eager execution.          |\n",
        "| **Distributed Training**     | Required manual configuration for multi-GPU setups. | Simplified with `tf.distribute.Strategy`.       |\n",
        "| **Custom Training Loops**    | Complex to implement.                               | Simplified using `GradientTape`.                |\n",
        "| **Performance Optimization** | Required manual graph construction.                 | Automatically optimized with `@tf.function`.    |\n",
        "| **Backward Compatibility**   | Code written in 1.x may break in newer versions.    | Provides a `tf.compat` module for migration.    |\n",
        "\n"
      ],
      "metadata": {
        "id": "xcisFBwPRnKt"
      }
    },
    {
      "cell_type": "markdown",
      "source": [
        "**2.How do you install TensorFlow 2.0 ?**"
      ],
      "metadata": {
        "id": "kJ4memZxNHiB"
      }
    },
    {
      "cell_type": "markdown",
      "source": [
        "Ans:\n",
        "pip install python\n",
        "python --version\n",
        "\n",
        "#create a virtural envourment\n",
        "python -m venv tensorflow_env\n",
        "#activate the virtual enviourment\n",
        "tensorflow_env\\Scripts\\activate\n",
        "#installing the Tensorflow 2.0\n",
        "pip install tensorflow\n",
        "#Import TensorFlow and check the version\n",
        "import tensorflow as tf\n",
        "print(tf.__version__)\n",
        "\n",
        "\n",
        "\n"
      ],
      "metadata": {
        "id": "slUkCP-0TKt6"
      }
    },
    {
      "cell_type": "markdown",
      "source": [
        "**3. What is the primary function of the tf.function in TensorFlow 2.0 ?**"
      ],
      "metadata": {
        "id": "SJr6Rfa8OJcC"
      }
    },
    {
      "cell_type": "markdown",
      "source": [
        "The primary function of tf.function in TensorFlow 2.0 is to convert a Python function into a TensorFlow computational graph. This transformation enables faster execution by optimizing the computation and taking advantage of TensorFlow's graph-based execution capabilities, such as parallelism, hardware acceleration (e.g., GPUs/TPUs), and deployment portability.\n",
        "\n",
        "Key Benefits of tf.function\n",
        "Performance Optimization:\n",
        "By converting a Python function into a graph, TensorFlow eliminates the need for repeated interpretation of Python code, resulting in faster execution.\n",
        "\n",
        "Graph Execution:\n",
        "Static computational graphs are more efficient and portable than eager execution, making them suitable for large-scale training and deployment.\n",
        "\n",
        "Cross-Platform Deployment:\n",
        "Graphs generated by tf.function can be saved, exported, and run on different platforms, such as mobile devices, servers, or edge devices.\n",
        "\n",
        "Reusable Computation:\n",
        "Once created, the graph can be reused multiple times without retracing the function."
      ],
      "metadata": {
        "id": "QqiuPnWyyUdL"
      }
    },
    {
      "cell_type": "code",
      "source": [
        "import tensorflow as tf\n",
        "import time\n",
        "\n",
        "# Without tf.function (Eager Execution)\n",
        "def add_eager(x, y):\n",
        "    return x + y\n",
        "\n",
        "# With tf.function (Graph Execution)\n",
        "@tf.function\n",
        "def add_graph(x, y):\n",
        "    return x + y\n",
        "\n",
        "x = tf.constant(10)\n",
        "y = tf.constant(20)\n",
        "\n",
        "# Measure performance\n",
        "start = time.time()\n",
        "for _ in range(10000):\n",
        "    add_eager(x, y)\n",
        "print(\"Eager Execution Time:\", time.time() - start)\n",
        "\n",
        "start = time.time()\n",
        "for _ in range(10000):\n",
        "    add_graph(x, y)\n",
        "print(\"Graph Execution Time:\", time.time() - start)\n"
      ],
      "metadata": {
        "colab": {
          "base_uri": "https://localhost:8080/"
        },
        "id": "f7QnT03j2aT4",
        "outputId": "8ba93b8c-da9b-420c-f075-a8834e91d5cb"
      },
      "execution_count": null,
      "outputs": [
        {
          "output_type": "stream",
          "name": "stdout",
          "text": [
            "Eager Execution Time: 2.0690484046936035\n",
            "Graph Execution Time: 6.978874206542969\n"
          ]
        }
      ]
    },
    {
      "cell_type": "markdown",
      "source": [
        "**4. What is the purpose of the Model class in TensorFlow 2.0 ?**"
      ],
      "metadata": {
        "id": "pUF8Wj2_NHfH"
      }
    },
    {
      "cell_type": "markdown",
      "source": [
        "The **`Model` class** in TensorFlow 2.0, provided by the `tensorflow.keras` API, is a core component used for creating and managing machine learning models. It is part of TensorFlow's **high-level Keras API** and serves as the foundation for building both simple and complex neural network architectures.\n",
        "\n",
        "---\n",
        "\n",
        "### **Purpose of the `Model` Class**\n",
        "The `Model` class is used to:\n",
        "\n",
        "1. **Define the Model's Architecture**:  \n",
        "   It allows you to specify the layers of your neural network and their connections.\n",
        "\n",
        "2. **Handle Training, Evaluation, and Prediction**:  \n",
        "   It provides methods for:\n",
        "   - **Training** the model: `model.fit()`\n",
        "   - **Evaluating** performance: `model.evaluate()`\n",
        "   - **Making predictions**: `model.predict()`\n",
        "\n",
        "3. **Provide Flexibility for Custom Models**:  \n",
        "   - The `Model` class can be subclassed to define custom forward passes (ideal for advanced use cases).\n",
        "   - It supports functional and subclassing approaches for building models.\n",
        "\n",
        "4. **Access Model Utilities**:  \n",
        "   The class includes tools for:\n",
        "   - Saving and loading models (`model.save()`, `tf.keras.models.load_model()`).\n",
        "   - Inspecting the model architecture (`model.summary()`).\n",
        "\n",
        "5. **Integrate Custom Training and Evaluation Loops**:  \n",
        "   - You can customize training by overriding the `train_step` method when subclassing the `Model` class.\n",
        "\n",
        "---\n",
        "\n",
        "### **How to Use the `Model` Class**\n",
        "\n",
        "#### **1. Sequential API**\n",
        "The simplest way to use the `Model` class is via the **Sequential API**:\n"
      ],
      "metadata": {
        "id": "51WQ4W9k35D8"
      }
    },
    {
      "cell_type": "code",
      "source": [
        "from tensorflow.keras import Sequential\n",
        "from tensorflow.keras.layers import Dense\n",
        "\n",
        "# Define a simple feedforward model\n",
        "model = Sequential([\n",
        "    Dense(32, activation='relu', input_shape=(10,)),\n",
        "    Dense(1, activation='sigmoid')\n",
        "])\n",
        "\n",
        "# Compile the model\n",
        "model.compile(optimizer='adam', loss='binary_crossentropy', metrics=['accuracy'])\n",
        "\n",
        "# Train the model\n",
        "model.fit(X_train, y_train, epochs=10, batch_size=32)\n"
      ],
      "metadata": {
        "id": "jI5p3hxW4S4Z"
      },
      "execution_count": null,
      "outputs": []
    },
    {
      "cell_type": "markdown",
      "source": [
        "2.Functional API\n",
        "For more complex architectures, the Functional API leverages the Model class explicitly:"
      ],
      "metadata": {
        "id": "ttwtYz6-4XBN"
      }
    },
    {
      "cell_type": "code",
      "source": [
        "from tensorflow.keras import Model, Input\n",
        "from tensorflow.keras.layers import Dense\n",
        "\n",
        "# Input layer\n",
        "inputs = Input(shape=(10,))\n",
        "\n",
        "# Hidden layer\n",
        "hidden = Dense(32, activation='relu')(inputs)\n",
        "\n",
        "# Output layer\n",
        "outputs = Dense(1, activation='sigmoid')(hidden)\n",
        "\n",
        "# Define the model\n",
        "model = Model(inputs=inputs, outputs=outputs)\n",
        "\n",
        "# Compile and train\n",
        "model.compile(optimizer='adam', loss='binary_crossentropy', metrics=['accuracy'])\n",
        "model.fit(X_train, y_train, epochs=10, batch_size=32)\n"
      ],
      "metadata": {
        "id": "t38hz5JK4UK-"
      },
      "execution_count": null,
      "outputs": []
    },
    {
      "cell_type": "markdown",
      "source": [
        "**5. How do you create a neural network using TensorFlow 2.0 ?**"
      ],
      "metadata": {
        "id": "rcQyxrXxNHcv"
      }
    },
    {
      "cell_type": "markdown",
      "source": [
        "Ans:\n",
        "Creating a neural network using TensorFlow 2.0 involves defining its architecture, compiling the model, and training it using data. TensorFlow provides tools such as Keras for high-level neural network construction.\n",
        "\n",
        "Steps to Create a Neural Network\n",
        "Define the Architecture: Use layers like Dense, Conv2D, LSTM, etc.\n",
        "Compile the Model: Specify the optimizer, loss function, and metrics.\n",
        "Train the Model: Use the fit() method on the dataset.\n",
        "Evaluate and Predict: Use the evaluate() and predict() methods for testing and inference.\n",
        "\n",
        "Example: Neural Network for Binary Classification"
      ],
      "metadata": {
        "id": "AfwKvEhtNHaO"
      }
    },
    {
      "cell_type": "code",
      "source": [
        "import tensorflow as tf\n",
        "from tensorflow.keras.models import Sequential\n",
        "from tensorflow.keras.layers import Dense\n",
        "\n",
        "# Step 1: Define the Architecture\n",
        "model = Sequential([\n",
        "    Dense(32, activation='relu', input_shape=(10,)),  # Input layer with 10 features\n",
        "    Dense(16, activation='relu'),                    # Hidden layer\n",
        "    Dense(1, activation='sigmoid')                   # Output layer for binary classification\n",
        "])\n",
        "\n",
        "# Step 2: Compile the Model\n",
        "model.compile(optimizer='adam',                    # Optimizer\n",
        "              loss='binary_crossentropy',          # Loss function\n",
        "              metrics=['accuracy'])                # Metric to monitor\n",
        "\n",
        "# Step 3: Generate Dummy Data\n",
        "import numpy as np\n",
        "X_train = np.random.rand(1000, 10)  # 1000 samples, 10 features\n",
        "y_train = np.random.randint(2, size=(1000, 1))  # Binary labels\n",
        "\n",
        "# Step 4: Train the Model\n",
        "model.fit(X_train, y_train, epochs=10, batch_size=32)\n",
        "\n",
        "# Step 5: Evaluate and Predict\n",
        "X_test = np.random.rand(200, 10)   # Test data\n",
        "y_test = np.random.randint(2, size=(200, 1))  # Test labels\n",
        "\n",
        "loss, accuracy = model.evaluate(X_test, y_test)\n",
        "print(f\"Test Loss: {loss}, Test Accuracy: {accuracy}\")\n",
        "\n",
        "predictions = model.predict(X_test[:5])\n",
        "print(\"Predictions:\", predictions)\n"
      ],
      "metadata": {
        "colab": {
          "base_uri": "https://localhost:8080/"
        },
        "id": "YqbRvEQrqi8M",
        "outputId": "795a64ff-71e8-417b-d2c7-a4153f65dc0c"
      },
      "execution_count": 1,
      "outputs": [
        {
          "output_type": "stream",
          "name": "stderr",
          "text": [
            "/usr/local/lib/python3.10/dist-packages/keras/src/layers/core/dense.py:87: UserWarning: Do not pass an `input_shape`/`input_dim` argument to a layer. When using Sequential models, prefer using an `Input(shape)` object as the first layer in the model instead.\n",
            "  super().__init__(activity_regularizer=activity_regularizer, **kwargs)\n"
          ]
        },
        {
          "output_type": "stream",
          "name": "stdout",
          "text": [
            "Epoch 1/10\n",
            "\u001b[1m32/32\u001b[0m \u001b[32m━━━━━━━━━━━━━━━━━━━━\u001b[0m\u001b[37m\u001b[0m \u001b[1m3s\u001b[0m 32ms/step - accuracy: 0.4616 - loss: 0.6967\n",
            "Epoch 2/10\n",
            "\u001b[1m32/32\u001b[0m \u001b[32m━━━━━━━━━━━━━━━━━━━━\u001b[0m\u001b[37m\u001b[0m \u001b[1m0s\u001b[0m 2ms/step - accuracy: 0.5419 - loss: 0.6903\n",
            "Epoch 3/10\n",
            "\u001b[1m32/32\u001b[0m \u001b[32m━━━━━━━━━━━━━━━━━━━━\u001b[0m\u001b[37m\u001b[0m \u001b[1m0s\u001b[0m 2ms/step - accuracy: 0.5048 - loss: 0.6913\n",
            "Epoch 4/10\n",
            "\u001b[1m32/32\u001b[0m \u001b[32m━━━━━━━━━━━━━━━━━━━━\u001b[0m\u001b[37m\u001b[0m \u001b[1m0s\u001b[0m 2ms/step - accuracy: 0.5257 - loss: 0.6865\n",
            "Epoch 5/10\n",
            "\u001b[1m32/32\u001b[0m \u001b[32m━━━━━━━━━━━━━━━━━━━━\u001b[0m\u001b[37m\u001b[0m \u001b[1m0s\u001b[0m 2ms/step - accuracy: 0.5300 - loss: 0.6902\n",
            "Epoch 6/10\n",
            "\u001b[1m32/32\u001b[0m \u001b[32m━━━━━━━━━━━━━━━━━━━━\u001b[0m\u001b[37m\u001b[0m \u001b[1m0s\u001b[0m 2ms/step - accuracy: 0.5270 - loss: 0.6875\n",
            "Epoch 7/10\n",
            "\u001b[1m32/32\u001b[0m \u001b[32m━━━━━━━━━━━━━━━━━━━━\u001b[0m\u001b[37m\u001b[0m \u001b[1m0s\u001b[0m 3ms/step - accuracy: 0.5716 - loss: 0.6827\n",
            "Epoch 8/10\n",
            "\u001b[1m32/32\u001b[0m \u001b[32m━━━━━━━━━━━━━━━━━━━━\u001b[0m\u001b[37m\u001b[0m \u001b[1m0s\u001b[0m 3ms/step - accuracy: 0.5412 - loss: 0.6851\n",
            "Epoch 9/10\n",
            "\u001b[1m32/32\u001b[0m \u001b[32m━━━━━━━━━━━━━━━━━━━━\u001b[0m\u001b[37m\u001b[0m \u001b[1m0s\u001b[0m 2ms/step - accuracy: 0.5084 - loss: 0.6889\n",
            "Epoch 10/10\n",
            "\u001b[1m32/32\u001b[0m \u001b[32m━━━━━━━━━━━━━━━━━━━━\u001b[0m\u001b[37m\u001b[0m \u001b[1m0s\u001b[0m 2ms/step - accuracy: 0.5398 - loss: 0.6860\n",
            "\u001b[1m7/7\u001b[0m \u001b[32m━━━━━━━━━━━━━━━━━━━━\u001b[0m\u001b[37m\u001b[0m \u001b[1m1s\u001b[0m 62ms/step - accuracy: 0.4645 - loss: 0.6920\n",
            "Test Loss: 0.6919811964035034, Test Accuracy: 0.47999998927116394\n",
            "\u001b[1m1/1\u001b[0m \u001b[32m━━━━━━━━━━━━━━━━━━━━\u001b[0m\u001b[37m\u001b[0m \u001b[1m0s\u001b[0m 288ms/step\n",
            "Predictions: [[0.49993074]\n",
            " [0.47925285]\n",
            " [0.49221584]\n",
            " [0.4971087 ]\n",
            " [0.40298465]]\n"
          ]
        }
      ]
    },
    {
      "cell_type": "markdown",
      "source": [
        "**6.What is the importance of Tensor Space in TensorFlow ?**"
      ],
      "metadata": {
        "id": "fxW5ZTrpNHXk"
      }
    },
    {
      "cell_type": "markdown",
      "source": [
        "Ans:\n",
        "\n",
        "The concept of tensor space in TensorFlow is fundamental because TensorFlow operates on tensors as its core data structure. Understanding tensor space is important for efficiently designing, building, and deploying machine learning models.\n",
        "\n",
        "What is Tensor Space?\n",
        "Tensor space refers to the multidimensional space where tensors (mathematical objects similar to arrays) reside. Each tensor has:\n",
        "\n",
        "Rank: Number of dimensions (e.g., scalar, vector, matrix, etc.).\n",
        "Shape: Size of the tensor along each dimension.\n",
        "Data Type: Type of elements stored (e.g., int32, float32, string).\n",
        "In TensorFlow, all computations—such as addition, multiplication, transformations, and neural network operations—happen in tensor space."
      ],
      "metadata": {
        "id": "Affw9cTAFTxV"
      }
    },
    {
      "cell_type": "code",
      "source": [
        "import tensorflow as tf\n",
        "\n",
        "# Tensor in a 3-dimensional space\n",
        "tensor = tf.constant([\n",
        "    [[1, 2], [3, 4]],\n",
        "    [[5, 6], [7, 8]]\n",
        "])\n",
        "print(\"Shape:\", tensor.shape)\n"
      ],
      "metadata": {
        "colab": {
          "base_uri": "https://localhost:8080/"
        },
        "id": "-sqvytf0FZLu",
        "outputId": "b1d246e5-813d-45f0-c2de-6201aef00480"
      },
      "execution_count": 1,
      "outputs": [
        {
          "output_type": "stream",
          "name": "stdout",
          "text": [
            "Shape: (2, 2, 2)\n"
          ]
        }
      ]
    },
    {
      "cell_type": "markdown",
      "source": [
        "**7 .How can TensorBoard be integrated with TensorFlow 2.0 ?**"
      ],
      "metadata": {
        "id": "J_Bgp8zCNHUo"
      }
    },
    {
      "cell_type": "markdown",
      "source": [
        "Ans:\n",
        "TensorBoard is a powerful visualization tool integrated with TensorFlow that helps monitor and debug machine learning models. It provides insights into metrics such as loss, accuracy, gradients, model architecture, and more during training and evaluation.\n",
        "\n",
        "Here’s how you can integrate TensorBoard with TensorFlow 2.0:"
      ],
      "metadata": {
        "id": "DXduwlt6GJpv"
      }
    },
    {
      "cell_type": "code",
      "source": [
        "import tensorflow as tf\n",
        "import datetime\n",
        "\n",
        "# Define log directory\n",
        "log_dir = \"logs/fit/\" + datetime.datetime.now().strftime(\"%Y%m%d-%H%M%S\")\n",
        "tensorboard_callback = tf.keras.callbacks.TensorBoard(log_dir=log_dir, histogram_freq=1)\n",
        "\n",
        "# Define and compile the model\n",
        "model = tf.keras.Sequential([\n",
        "    tf.keras.layers.Flatten(input_shape=(28, 28)),\n",
        "    tf.keras.layers.Dense(128, activation='relu'),\n",
        "    tf.keras.layers.Dense(10, activation='softmax')\n",
        "])\n",
        "\n",
        "model.compile(optimizer='adam',\n",
        "              loss='sparse_categorical_crossentropy',\n",
        "              metrics=['accuracy'])\n",
        "\n",
        "# Load dataset\n",
        "(x_train, y_train), (x_test, y_test) = tf.keras.datasets.mnist.load_data()\n",
        "x_train, x_test = x_train / 255.0, x_test / 255.0\n",
        "\n",
        "# Train the model with TensorBoard logging\n",
        "model.fit(x_train, y_train, epochs=5, callbacks=[tensorboard_callback])\n",
        "\n",
        "# Launch TensorBoard\n",
        "# tensorboard --logdir logs/fit\n"
      ],
      "metadata": {
        "colab": {
          "base_uri": "https://localhost:8080/"
        },
        "id": "KeOBwzl_GL8W",
        "outputId": "3a118539-9114-4a78-84d3-edc62e0bd3ca"
      },
      "execution_count": 2,
      "outputs": [
        {
          "output_type": "stream",
          "name": "stderr",
          "text": [
            "/usr/local/lib/python3.10/dist-packages/keras/src/layers/reshaping/flatten.py:37: UserWarning: Do not pass an `input_shape`/`input_dim` argument to a layer. When using Sequential models, prefer using an `Input(shape)` object as the first layer in the model instead.\n",
            "  super().__init__(**kwargs)\n"
          ]
        },
        {
          "output_type": "stream",
          "name": "stdout",
          "text": [
            "Downloading data from https://storage.googleapis.com/tensorflow/tf-keras-datasets/mnist.npz\n",
            "\u001b[1m11490434/11490434\u001b[0m \u001b[32m━━━━━━━━━━━━━━━━━━━━\u001b[0m\u001b[37m\u001b[0m \u001b[1m0s\u001b[0m 0us/step\n",
            "Epoch 1/5\n",
            "\u001b[1m1875/1875\u001b[0m \u001b[32m━━━━━━━━━━━━━━━━━━━━\u001b[0m\u001b[37m\u001b[0m \u001b[1m7s\u001b[0m 3ms/step - accuracy: 0.8779 - loss: 0.4335\n",
            "Epoch 2/5\n",
            "\u001b[1m1875/1875\u001b[0m \u001b[32m━━━━━━━━━━━━━━━━━━━━\u001b[0m\u001b[37m\u001b[0m \u001b[1m9s\u001b[0m 3ms/step - accuracy: 0.9654 - loss: 0.1202\n",
            "Epoch 3/5\n",
            "\u001b[1m1875/1875\u001b[0m \u001b[32m━━━━━━━━━━━━━━━━━━━━\u001b[0m\u001b[37m\u001b[0m \u001b[1m5s\u001b[0m 3ms/step - accuracy: 0.9772 - loss: 0.0778\n",
            "Epoch 4/5\n",
            "\u001b[1m1875/1875\u001b[0m \u001b[32m━━━━━━━━━━━━━━━━━━━━\u001b[0m\u001b[37m\u001b[0m \u001b[1m4s\u001b[0m 2ms/step - accuracy: 0.9826 - loss: 0.0589\n",
            "Epoch 5/5\n",
            "\u001b[1m1875/1875\u001b[0m \u001b[32m━━━━━━━━━━━━━━━━━━━━\u001b[0m\u001b[37m\u001b[0m \u001b[1m6s\u001b[0m 2ms/step - accuracy: 0.9861 - loss: 0.0446\n"
          ]
        },
        {
          "output_type": "execute_result",
          "data": {
            "text/plain": [
              "<keras.src.callbacks.history.History at 0x7e05d0721300>"
            ]
          },
          "metadata": {},
          "execution_count": 2
        }
      ]
    },
    {
      "cell_type": "markdown",
      "source": [
        "**8. What is the purpose of TensorFlow Playground ?**"
      ],
      "metadata": {
        "id": "pRaq5IkKNHRv"
      }
    },
    {
      "cell_type": "markdown",
      "source": [
        "Ans:\n",
        "**TensorFlow Playground** is an interactive, web-based tool designed to help users visualize and understand how neural networks work. It provides an intuitive interface for experimenting with neural network architectures and observing their behavior on simple datasets.\n",
        "\n",
        "---\n",
        "\n",
        "### **Key Purposes of TensorFlow Playground**\n",
        "\n",
        "1. **Educational Tool**:\n",
        "   - TensorFlow Playground is primarily designed to teach the basic concepts of neural networks, such as activation functions, layers, neurons, and training dynamics.\n",
        "   - It allows users to grasp fundamental ideas like overfitting, regularization, and how different hyperparameters affect model performance.\n",
        "\n",
        "2. **Visualization of Neural Network Operations**:\n",
        "   - Provides a clear, graphical representation of how data flows through a neural network.\n",
        "   - Displays real-time visualizations of decision boundaries and how the model learns over epochs.\n",
        "\n",
        "3. **Hands-On Experimentation**:\n",
        "   - Users can adjust parameters such as learning rate, activation functions, number of hidden layers, number of neurons per layer, and types of regularization.\n",
        "   - Enables direct observation of how these changes affect the training process and the resulting decision boundaries.\n",
        "\n",
        "4. **Quick Prototyping and Intuition Building**:\n",
        "   - It's a sandbox environment for quickly testing ideas and gaining intuition without requiring coding or computational resources.\n",
        "   - Useful for understanding which types of neural network architectures work well for specific data distributions.\n",
        "\n",
        "5. **Introduction to Deep Learning Concepts**:\n",
        "   - Concepts like gradient descent, loss functions, and optimization are easier to understand when users can see them in action.\n",
        "   - Helps in visualizing the role of features in learning.\n",
        "\n",
        "---\n",
        "\n",
        "### **Key Features**\n",
        "- **Customizable Neural Network**: Adjust the architecture, such as the number of layers and neurons.\n",
        "- **Dataset Selection**: Choose from pre-defined datasets (e.g., spiral, clusters, linear) to test models.\n",
        "- **Real-Time Visualizations**:\n",
        "  - Decision boundaries and loss progression during training.\n",
        "  - Visualization of activations in hidden layers.\n",
        "- **Hyperparameter Tuning**: Modify learning rate, regularization strength, and activation functions.\n",
        "- **Interactive Interface**: Provides an engaging and simple interface to experiment with neural networks.\n",
        "\n",
        "---\n",
        "\n",
        "### **How to Use TensorFlow Playground**\n",
        "1. Open TensorFlow Playground in a browser: [TensorFlow Playground](https://playground.tensorflow.org/).\n",
        "2. Select a dataset and configure the network's architecture and hyperparameters.\n",
        "3. Click the \"Run\" button to train the neural network and observe:\n",
        "   - The evolution of decision boundaries.\n",
        "   - The impact of parameter changes on performance.\n",
        "4. Experiment with features, like enabling/disabling neurons, to explore their contributions.\n",
        "\n",
        "---\n",
        "\n",
        "### **Benefits of TensorFlow Playground**\n",
        "- **No Setup Required**: Runs entirely in a browser.\n",
        "- **Interactive Learning**: Great for students and beginners to experiment without needing coding knowledge.\n",
        "- **Immediate Feedback**: Real-time updates make it easier to connect theory with practice.\n",
        "\n",
        "---\n",
        "\n",
        "### **Limitations**\n",
        "- **Simplified Environment**: Focuses on small, simple datasets, not suitable for complex problems or large-scale data.\n",
        "- **No Code Integration**: It's a GUI tool, so users don't directly write or export code for real-world applications.\n",
        "\n",
        "---\n",
        "\n",
        "TensorFlow Playground is a powerful tool for demystifying neural networks, making it a valuable resource for beginners and educators exploring the foundations of deep learning."
      ],
      "metadata": {
        "id": "lLhDg5_jHhad"
      }
    },
    {
      "cell_type": "markdown",
      "source": [
        "**9.What is Netron, and how is it useful for deep learning models ?**"
      ],
      "metadata": {
        "id": "WlefJWcaOvzc"
      }
    },
    {
      "cell_type": "markdown",
      "source": [
        "Ans:\n",
        "**Netron** is an open-source, cross-platform visualization tool for inspecting and analyzing deep learning, machine learning, and neural network models. It provides a graphical representation of model architecture, which makes it easier to understand and debug models. Netron supports a wide variety of model formats from frameworks like TensorFlow, PyTorch, ONNX, Keras, and more.\n",
        "\n",
        "---\n",
        "\n",
        "### **Key Features of Netron**\n",
        "1. **Visualization of Model Architecture**:\n",
        "   - Displays the layers, connections, and data flow of a neural network in a clear and intuitive graphical format.\n",
        "   - Highlights the input and output tensor shapes, making it easier to spot mismatches or errors.\n",
        "\n",
        "2. **Support for Multiple Frameworks**:\n",
        "   - Compatible with popular model formats, including:\n",
        "     - TensorFlow (`.pb`, `.tflite`, `.savedmodel`)\n",
        "     - PyTorch (`.pt`, `.pth`)\n",
        "     - ONNX (`.onnx`)\n",
        "     - Keras (`.h5`)\n",
        "     - Caffe, MXNet, Core ML, and others.\n",
        "\n",
        "3. **Cross-Platform**:\n",
        "   - Available for Windows, macOS, Linux, and as a web application.\n",
        "\n",
        "4. **Interactive and User-Friendly**:\n",
        "   - Models can be zoomed, panned, and inspected layer by layer.\n",
        "   - Provides detailed information about each layer, including type, parameters, and dimensions.\n",
        "\n",
        "5. **Lightweight and Fast**:\n",
        "   - Does not require the original training environment or heavy dependencies to inspect models.\n",
        "\n",
        "---\n",
        "\n",
        "### **How Netron is Useful for Deep Learning Models**\n",
        "1. **Understanding Model Architecture**:\n",
        "   - Helps visualize complex models, making it easier to comprehend the arrangement of layers, operations, and flow of data.\n",
        "\n",
        "2. **Debugging Models**:\n",
        "   - Spot potential issues such as mismatched input/output dimensions, incorrect layer configurations, or missing components.\n",
        "\n",
        "3. **Exploring Pre-Trained Models**:\n",
        "   - Useful for inspecting third-party or pre-trained models to understand their design before fine-tuning or deployment.\n",
        "\n",
        "4. **Communication and Collaboration**:\n",
        "   - Graphical representations of models are easier to share and explain to team members, especially for non-technical stakeholders.\n",
        "\n",
        "5. **Deployment Preparation**:\n",
        "   - Ensures the compatibility of models for deployment by verifying input-output shapes and supported operations.\n",
        "\n",
        "---\n",
        "\n",
        "### **How to Use Netron**\n",
        "1. **Installation**:\n",
        "   - Download and install from the official site: [Netron](https://netron.app).\n",
        "   - Alternatively, install via Python:  \n",
        "     ```bash\n",
        "     pip install netron\n",
        "     ```\n",
        "\n",
        "2. **Opening a Model**:\n",
        "   - Launch Netron and load the model file using the interface or via the command line:  \n",
        "     ```bash\n",
        "     netron your_model.onnx\n",
        "     ```\n",
        "\n",
        "3. **Inspect the Model**:\n",
        "   - Explore the architecture, examine layer details, and visualize the data flow.\n",
        "\n",
        "---\n",
        "\n",
        "### **Benefits of Using Netron**\n",
        "- **Simplifies Model Inspection**: Ideal for both beginners and experts to understand model internals.\n",
        "- **Speeds Up Debugging**: Quickly identify issues in model configurations.\n",
        "- **Framework-Agnostic**: Works with models from various frameworks without requiring their native environments.\n"
      ],
      "metadata": {
        "id": "Wg4fIB1bOvwE"
      }
    },
    {
      "cell_type": "markdown",
      "source": [
        "**10 .What is the difference between TensorFlow and PyTorch ?**"
      ],
      "metadata": {
        "id": "YSAJ4ibXOvtU"
      }
    },
    {
      "cell_type": "markdown",
      "source": [
        "Ans:\n",
        "\n",
        "TensorFlow and PyTorch are two of the most widely used deep learning frameworks. Both offer powerful tools for building and training machine learning models, but they differ significantly in terms of design philosophy, usability, and ecosystem.\n",
        "\n",
        "---\n",
        "\n",
        "### **Key Differences Between TensorFlow and PyTorch**\n",
        "\n",
        "| **Aspect**               | **TensorFlow**                                                                                                   | **PyTorch**                                                                                                    |\n",
        "|--------------------------|-----------------------------------------------------------------------------------------------------------------|----------------------------------------------------------------------------------------------------------------|\n",
        "| **Design Philosophy**    | Declarative (Graph-based execution with static computation graphs).                                              | Imperative (Dynamic computation graphs, more intuitive).                                                      |\n",
        "| **Ease of Use**          | Steeper learning curve; requires understanding of graphs and sessions (simplified in TensorFlow 2.0).            | Pythonic and beginner-friendly; intuitive for researchers and developers familiar with Python.                |\n",
        "| **Graph Execution**      | - **Static Graph** (TensorFlow 1.x): Build the computation graph first, then execute.                           - **Eager Execution** (TensorFlow 2.x): Supports dynamic graph similar to PyTorch.                              | Dynamic graph: Allows modification of the computation graph at runtime, enabling flexibility and ease of debugging. |\n",
        "| **Model Debugging**      | Debugging is harder in TensorFlow 1.x due to static graphs; easier in TensorFlow 2.x with eager execution.        | Debugging is simpler due to dynamic computation graphs and Python integration.                                 |\n",
        "| **Deployment**           | Strong deployment options with TensorFlow Serving, TensorFlow Lite, and TensorFlow.js.                          | Deployment options are available but not as extensive; TorchServe is available for serving PyTorch models.    |\n",
        "| **Community and Ecosystem** | Larger ecosystem with support for TensorBoard, TensorFlow Extended (TFX), and pre-trained models in TensorFlow Hub. | Growing community; provides TorchVision, TorchText, and pre-trained models via Torch Hub.                      |\n",
        "| **Performance**          | Optimized for production with TensorFlow Serving and TPU support.                                               | Comparable performance for research and experimentation; less emphasis on production tools.                   |\n",
        "| **Popularity**           | Widely adopted in the industry and enterprise settings for production workflows.                                | Widely used in academia and research due to its ease of experimentation and flexibility.                      |\n",
        "| **Visualization**        | TensorBoard provides extensive visualization tools.                                                             | No built-in visualization tool; integrates well with external tools like Matplotlib.                          |\n",
        "| **Hardware Support**     | Native TPU support and optimized for GPUs via CUDA.                                                             | Strong GPU support with CUDA, but lacks native TPU integration.                                               |\n",
        "| **Code Style**           | Requires more boilerplate code, especially in TensorFlow 1.x.                                                   | Code is concise and intuitive, mimicking Python programming style.                                            |\n",
        "| **Distributed Training** | Offers advanced distributed training strategies out of the box.                                                 | Provides good distributed training options, but TensorFlow has more mature tools.                             |\n",
        "\n",
        "---\n",
        "\n",
        "### **Choosing Between TensorFlow and PyTorch**\n",
        "- **Use TensorFlow if**:\n",
        "  - You need robust tools for deploying models in production (e.g., TensorFlow Serving or TensorFlow Lite).\n",
        "  - You're working on large-scale applications where deployment, scalability, and ecosystem support are critical.\n",
        "  - You want extensive visualization options (e.g., TensorBoard).\n",
        "\n",
        "- **Use PyTorch if**:\n",
        "  - You’re focused on research or rapid prototyping.\n",
        "  - You prefer a more intuitive, Pythonic interface for building and experimenting with models.\n",
        "  - You value flexibility and dynamic graph execution for debugging or experimenting with complex models.\n",
        "\n"
      ],
      "metadata": {
        "id": "itmo2CyaJ5M9"
      }
    },
    {
      "cell_type": "code",
      "source": [
        "#Tensorflow\n",
        "import tensorflow as tf\n",
        "\n",
        "model = tf.keras.Sequential([\n",
        "    tf.keras.layers.Dense(128, activation='relu'),\n",
        "    tf.keras.layers.Dense(10, activation='softmax')\n",
        "])\n",
        "model.compile(optimizer='adam', loss='sparse_categorical_crossentropy', metrics=['accuracy'])\n"
      ],
      "metadata": {
        "id": "n0DKPmcHKEYE"
      },
      "execution_count": 4,
      "outputs": []
    },
    {
      "cell_type": "code",
      "source": [
        "#pytorch\n",
        "import torch\n",
        "import torch.nn as nn\n",
        "import torch.optim as optim\n",
        "\n",
        "class SimpleNN(nn.Module):\n",
        "    def __init__(self):\n",
        "        super(SimpleNN, self).__init__()\n",
        "        self.fc1 = nn.Linear(784, 128)\n",
        "        self.fc2 = nn.Linear(128, 10)\n",
        "\n",
        "    def forward(self, x):\n",
        "        x = torch.relu(self.fc1(x))\n",
        "        x = torch.softmax(self.fc2(x), dim=1)\n",
        "        return x\n",
        "\n",
        "model = SimpleNN()\n",
        "criterion = nn.CrossEntropyLoss()\n",
        "optimizer = optim.Adam(model.parameters())\n"
      ],
      "metadata": {
        "id": "7P-_xYQ5KLFj"
      },
      "execution_count": 5,
      "outputs": []
    },
    {
      "cell_type": "markdown",
      "source": [
        "**11. How do you install PyTorch ?**"
      ],
      "metadata": {
        "id": "he-tARa2OvqP"
      }
    },
    {
      "cell_type": "markdown",
      "source": [
        "Ans:\n",
        "<>For CPU only:\n",
        "\n",
        "pip install torch torchvision torchaudio\n",
        "\n",
        "<>For GPU (with CUDA): Replace <CUDA_VERSION> with your desired version (e.g., cu118 for CUDA 11.8).For GPU (with CUDA): Replace <CUDA_VERSION> with your desired version (e.g., cu118 for CUDA 11.8).\n",
        "\n",
        "pip install torch torchvision torchaudio --index-url https://download.pytorch.org/whl/cu118\n",
        "\n"
      ],
      "metadata": {
        "id": "fy1mJnVaKUpv"
      }
    },
    {
      "cell_type": "markdown",
      "source": [
        "**12. What is the basic structure of a PyTorch neural network ?**"
      ],
      "metadata": {
        "id": "R1c1PtVnOvnR"
      }
    },
    {
      "cell_type": "code",
      "source": [
        "import torch\n",
        "import torch.nn as nn\n",
        "import torch.optim as optim\n",
        "\n",
        "# Define the custom model\n",
        "class SimpleNN(nn.Module):\n",
        "    def __init__(self):\n",
        "        super(SimpleNN, self).__init__()\n",
        "        # Define layers\n",
        "        self.fc1 = nn.Linear(4, 16)  # Input size 4, output size 16\n",
        "        self.relu = nn.ReLU()       # Activation function\n",
        "        self.fc2 = nn.Linear(16, 3) # Output size 3 (e.g., for classification)\n",
        "\n",
        "    def forward(self, x):\n",
        "        # Define the forward pass\n",
        "        x = self.fc1(x)    # Input to first layer\n",
        "        x = self.relu(x)   # Activation\n",
        "        x = self.fc2(x)    # Output layer\n",
        "        return x\n",
        "\n",
        "# Create the model instance\n",
        "model = SimpleNN()\n",
        "\n",
        "# Define loss function and optimizer\n",
        "loss_fn = nn.CrossEntropyLoss()  # Suitable for classification tasks\n",
        "optimizer = optim.SGD(model.parameters(), lr=0.01)\n",
        "\n",
        "#Example training loop\n",
        "# Example data\n",
        "inputs = torch.rand(8, 4)  # Batch of 8, 4 features each\n",
        "labels = torch.randint(0, 3, (8,))  # Random class labels (3 classes)\n",
        "\n",
        "# Training loop\n",
        "for epoch in range(5):  # 5 epochs\n",
        "    # Forward pass\n",
        "    outputs = model(inputs)\n",
        "    loss = loss_fn(outputs, labels)\n",
        "\n",
        "    # Backward pass\n",
        "    optimizer.zero_grad()  # Reset gradients\n",
        "    loss.backward()        # Compute gradients\n",
        "    optimizer.step()       # Update weights\n",
        "\n",
        "    print(f\"Epoch {epoch+1}, Loss: {loss.item()}\")\n"
      ],
      "metadata": {
        "colab": {
          "base_uri": "https://localhost:8080/"
        },
        "id": "cZZMisYpMDQP",
        "outputId": "c917282d-1cfb-4b98-ffba-d5ba5a89619f"
      },
      "execution_count": 6,
      "outputs": [
        {
          "output_type": "stream",
          "name": "stdout",
          "text": [
            "Epoch 1, Loss: 1.265563726425171\n",
            "Epoch 2, Loss: 1.2608232498168945\n",
            "Epoch 3, Loss: 1.256190299987793\n",
            "Epoch 4, Loss: 1.2516611814498901\n",
            "Epoch 5, Loss: 1.2472325563430786\n"
          ]
        }
      ]
    },
    {
      "cell_type": "markdown",
      "source": [
        "**14. What is the difference between torch.Tensor and torch.cuda.Tensor in PyTorch ?**"
      ],
      "metadata": {
        "id": "6zgC5BTqPGm9"
      }
    },
    {
      "cell_type": "markdown",
      "source": [
        "Ans:\n",
        "The primary difference between `torch.Tensor` and `torch.cuda.Tensor` in PyTorch lies in **where the tensor data is stored and processed**:\n",
        "\n",
        "### **Key Differences**\n",
        "\n",
        "| **Aspect**              | **`torch.Tensor` (CPU)**                   | **`torch.cuda.Tensor` (GPU)**                |\n",
        "|--------------------------|--------------------------------------------|----------------------------------------------|\n",
        "| **Device**              | CPU (default).                             | GPU (requires CUDA).                         |\n",
        "| **Performance**         | Slower for large computations.             | Faster for large computations due to GPU parallelism. |\n",
        "| **Memory Location**     | Stored in system RAM.                      | Stored in GPU memory (VRAM).                 |\n",
        "| **Device Transfer**     | No explicit transfer needed.               | Requires transferring data to/from GPU.      |\n",
        "| **Initialization**      | Default type is `torch.FloatTensor`.       | Must specify `device='cuda'` during creation or transfer. |\n",
        "| **Compatibility**       | Operations cannot mix CPU and GPU tensors. | All involved tensors must be on the same GPU. |\n",
        "\n"
      ],
      "metadata": {
        "id": "ow_Qx8HBNhz0"
      }
    },
    {
      "cell_type": "code",
      "source": [
        "#>>torch.Tensor\n",
        "# Represents a CPU tensor by default.\n",
        "# Data is stored and operations are performed on the CPU.\n",
        "# It is the default tensor type in PyTorch.\n",
        "import torch\n",
        "# Create a tensor on the CPU\n",
        "tensor_cpu = torch.Tensor([1, 2, 3])\n",
        "print(tensor_cpu.device)\n"
      ],
      "metadata": {
        "colab": {
          "base_uri": "https://localhost:8080/"
        },
        "id": "jq9W5jD7OJrP",
        "outputId": "5c9d3527-0dfa-487f-dfe0-7a6d6c66ae14"
      },
      "execution_count": 7,
      "outputs": [
        {
          "output_type": "stream",
          "name": "stdout",
          "text": [
            "cpu\n"
          ]
        }
      ]
    },
    {
      "cell_type": "code",
      "source": [
        "#>> torch.cuda.Tensor\n",
        "# Represents a GPU tensor.\n",
        "# Data is stored and operations are performed on the GPU using CUDA.\n",
        "# These tensors enable faster computation for tasks that can leverage GPU acceleration.\n",
        "import torch\n",
        "# Create a tensor on the GPU\n",
        "tensor_gpu = torch.tensor([1, 2, 3], device='cuda')\n",
        "print(tensor_gpu.device)\n",
        "\n"
      ],
      "metadata": {
        "colab": {
          "base_uri": "https://localhost:8080/"
        },
        "id": "qM0SEK3SOXKq",
        "outputId": "410a71fa-c4a6-4bfd-e4e0-9246ea7ae17b"
      },
      "execution_count": 8,
      "outputs": [
        {
          "output_type": "stream",
          "name": "stdout",
          "text": [
            "cuda:0\n"
          ]
        }
      ]
    },
    {
      "cell_type": "markdown",
      "source": [
        "**15 .What is the purpose of the torch.optim module in PyTorch ?**"
      ],
      "metadata": {
        "id": "4kcO92BQPHoh"
      }
    },
    {
      "cell_type": "markdown",
      "source": [
        "ans:\n",
        "\n",
        "The `torch.optim` module in PyTorch provides a collection of optimization algorithms for training machine learning models. Its primary purpose is to **update the parameters (weights) of a model during training** to minimize the loss function, thereby improving the model's performance.\n",
        "\n",
        "---\n",
        "\n",
        "### **Key Features of `torch.optim`**\n",
        "1. **Implements Various Optimization Algorithms**:\n",
        "   - Popular optimizers like **SGD (Stochastic Gradient Descent)**, **Adam**, **RMSprop**, etc., are included.\n",
        "   - Each optimizer has specific properties suited for different tasks.\n",
        "\n",
        "2. **Handles Parameter Updates**:\n",
        "   - Automatically computes updates for model parameters based on the gradients computed during backpropagation.\n",
        "\n",
        "3. **Customizable Behavior**:\n",
        "   - Allows setting hyperparameters such as learning rate (`lr`), momentum, weight decay, etc.\n",
        "\n",
        "4. **Integrated with Autograd**:\n",
        "   - Works seamlessly with PyTorch's autograd system to compute gradients and perform updates.\n",
        "\n",
        "---\n",
        "\n",
        "### **How `torch.optim` Works**\n",
        "\n",
        "1. **Initialize the Optimizer**:\n",
        "   - Define an optimizer and specify the parameters of the model to be optimized.\n",
        "   - Example:\n",
        "     ```python\n",
        "     optimizer = torch.optim.SGD(model.parameters(), lr=0.01)\n",
        "     ```\n",
        "\n",
        "2. **Zero the Gradients**:\n",
        "   - Before performing a new optimization step, gradients must be reset to avoid accumulation.\n",
        "   - Example:\n",
        "     ```python\n",
        "     optimizer.zero_grad()\n",
        "     ```\n",
        "\n",
        "3. **Compute Gradients**:\n",
        "   - Perform forward and backward passes to calculate gradients using the loss function.\n",
        "   - Example:\n",
        "     ```python\n",
        "     loss.backward()\n",
        "     ```\n",
        "\n",
        "4. **Update Parameters**:\n",
        "   - Call `optimizer.step()` to update the model's parameters using the computed gradients.\n",
        "   - Example:\n",
        "     ```python\n",
        "     optimizer.step()\n",
        "     ```\n",
        "\n",
        "---\n",
        "\n",
        "### **Common Optimizers in `torch.optim`**\n",
        "\n",
        "| **Optimizer** | **Description**                                                                                                  | **Common Hyperparameters**               |\n",
        "|---------------|------------------------------------------------------------------------------------------------------------------|------------------------------------------|\n",
        "| **SGD**       | Stochastic Gradient Descent with optional momentum for faster convergence.                                       | `lr`, `momentum`, `weight_decay`         |\n",
        "| **Adam**      | Adaptive Moment Estimation combines the benefits of AdaGrad and RMSprop.                                         | `lr`, `betas`, `eps`, `weight_decay`     |\n",
        "| **RMSprop**   | Divides the learning rate by a moving average of recent gradients. Useful for non-stationary objectives.         | `lr`, `alpha`, `eps`, `weight_decay`     |\n",
        "| **Adagrad**   | Adjusts learning rate for each parameter based on the magnitude of past gradients.                               | `lr`, `lr_decay`, `weight_decay`         |\n",
        "| **AdamW**     | Variant of Adam with decoupled weight decay for improved regularization.                                         | `lr`, `betas`, `eps`, `weight_decay`     |\n",
        "| **LBFGS**     | Limited-memory BFGS, a second-order optimization algorithm for smaller datasets and batch sizes.                 | `lr`, `max_iter`, `history_size`         |\n",
        "\n",
        "---\n",
        "\n"
      ],
      "metadata": {
        "id": "-w74q1QtPWgP"
      }
    },
    {
      "cell_type": "markdown",
      "source": [
        "**16 .What are some common activation functions used in neural networks ?**"
      ],
      "metadata": {
        "id": "z5tBjxwZPkm9"
      }
    },
    {
      "cell_type": "markdown",
      "source": [
        "Ans:\n",
        "\n",
        "### **Comparison Table**\n",
        "\n",
        "| **Activation Function** | **Use Case**                              | **Advantages**                     | **Disadvantages**                 |\n",
        "|--------------------------|-------------------------------------------|-------------------------------------|------------------------------------|\n",
        "| Sigmoid                 | Binary classification                    | Probabilistic output               | Vanishing gradient                |\n",
        "| Tanh                    | Hidden layers in RNNs                    | Zero-centered output               | Vanishing gradient                |\n",
        "| ReLU                    | Deep CNNs                                | Fast and sparse activations        | Dying ReLU problem                |\n",
        "| Leaky ReLU              | CNNs with better gradient flow           | Solves dying ReLU problem          | Requires parameter tuning         |\n",
        "| ELU                     | Deep networks                            | Smooth for negative inputs         | Slower computation                |\n",
        "| Softmax                 | Multi-class classification               | Converts logits to probabilities   | Sensitive to large logits         |\n",
        "| Swish                   | Deep learning tasks                      | Non-monotonic, smooth activations  | Computational cost                |\n",
        "| GELU                    | Transformers, advanced architectures     | Smooth activations                 | Slightly slower than ReLU         |\n"
      ],
      "metadata": {
        "id": "dUoXRwTmPwFx"
      }
    },
    {
      "cell_type": "markdown",
      "source": [
        "**17 .What is the difference between torch.nn.Module and torch.nn.Sequential in PyTorch ?**"
      ],
      "metadata": {
        "id": "a2_z5QSePkjY"
      }
    },
    {
      "cell_type": "markdown",
      "source": [
        "Ans:\n",
        "The primary difference between `torch.nn.Module` and `torch.nn.Sequential` lies in how they allow you to define and structure neural network models in PyTorch. Here's a detailed comparison:\n",
        "\n",
        "---\n",
        "\n",
        "### **1. `torch.nn.Module`**\n",
        "- **Definition**:\n",
        "  - It is the base class for all neural networks in PyTorch.\n",
        "  - Allows for flexible and custom model design by enabling you to define the forward pass explicitly.\n",
        "\n",
        "- **Features**:\n",
        "  - **Custom Forward Pass**:\n",
        "    - You can define the forward method to control how data flows through the layers.\n",
        "    - Useful for complex architectures with branching, loops, or shared layers.\n",
        "  - **Reusable Submodules**:\n",
        "    - You can organize layers into reusable submodules.\n",
        "  - **Extensibility**:\n",
        "    - Suitable for highly customized architectures like GANs, ResNet, etc.\n",
        "\n",
        "\n",
        "### **2. `torch.nn.Sequential`**\n",
        "- **Definition**:\n",
        "  - A simpler, more concise way to stack layers sequentially.\n",
        "  - Does not require explicitly defining a `forward` method.\n",
        "\n",
        "- **Features**:\n",
        "  - **Automatic Forward Pass**:\n",
        "    - Layers are applied in the order they are defined.\n",
        "    - No flexibility to control the forward flow beyond sequential application.\n",
        "  - **Concise and Readable**:\n",
        "    - Best for simple, feed-forward architectures where layers are applied one after the other.\n",
        "\n",
        "\n",
        "### **Key Differences**\n",
        "\n",
        "| Feature                      | `torch.nn.Module`                          | `torch.nn.Sequential`               |\n",
        "|------------------------------|--------------------------------------------|--------------------------------------|\n",
        "| **Flexibility**              | Highly flexible; custom forward pass       | Limited to sequential execution      |\n",
        "| **Use Case**                 | Complex models with branching or shared layers | Simple feed-forward networks         |\n",
        "| **Reusability**              | Can reuse layers or submodules             | Not reusable; defines a static order |\n",
        "| **Ease of Use**              | Requires more boilerplate code             | Concise and straightforward          |\n"
      ],
      "metadata": {
        "id": "Bl7TzMDaRMAY"
      }
    },
    {
      "cell_type": "markdown",
      "source": [
        "**18 .How can you monitor training progress in TensorFlow 2.0 ?**"
      ],
      "metadata": {
        "id": "5hXG7nLnPkhP"
      }
    },
    {
      "cell_type": "markdown",
      "source": [
        "Ans:\n",
        "\n",
        "In TensorFlow 2.0, monitoring training progress can be done using various tools and techniques. Here are some common methods:\n",
        "\n",
        "### 1. **Using `tf.keras.callbacks`**\n",
        "\n",
        "TensorFlow provides a built-in library of callbacks that can help monitor various aspects of the training process, such as loss, accuracy, and other metrics. The most commonly used callback for monitoring is `TensorBoard`, but others like `EarlyStopping`, `ModelCheckpoint`, etc., are also very useful.\n",
        "\n"
      ],
      "metadata": {
        "id": "oxeKUJbDSKNg"
      }
    },
    {
      "cell_type": "markdown",
      "source": [
        "**19. How does the Keras API fit into TensorFlow 2.0 ?**"
      ],
      "metadata": {
        "id": "qsngUkG-Pkej"
      }
    },
    {
      "cell_type": "markdown",
      "source": [
        "Ans:\n",
        "\n",
        "In **TensorFlow 2.0**, the **Keras API** is integrated as the **default high-level API** for building and training machine learning models. Keras provides a user-friendly, modular, and extensible framework for defining and training neural networks, making it easier to work with TensorFlow.\n",
        "\n",
        "Here’s how Keras fits into TensorFlow 2.0:\n",
        "\n",
        "### 1. **High-Level Abstraction for Building Models**\n",
        "   Keras simplifies the creation of deep learning models by providing a high-level interface for defining layers, activation functions, optimizers, and loss functions. It abstracts away many of the complexities of TensorFlow, making it accessible to beginners while still powerful enough for advanced users.\n",
        "\n",
        "   - **Sequential API**: Keras offers the `Sequential` class for simple, linear stacks of layers. It’s useful for most models that consist of a stack of layers, where each layer has exactly one input tensor and one output tensor.\n",
        "   - **Functional API**: For more complex models, such as those with multiple inputs or outputs, or shared layers, Keras provides the Functional API. This allows for more flexibility in defining models like multi-input models, residual networks, and models with multiple branches.\n",
        "\n",
        "### 2. **Integration with TensorFlow 2.0**\n",
        "   In TensorFlow 2.0, Keras is deeply integrated, making it the default way of building neural networks. The **`tf.keras`** module contains Keras' functionality within TensorFlow itself. This integration allows you to take advantage of TensorFlow’s features (such as `tf.data` for efficient input pipelines, `tf.function` for performance optimization, and distribution strategies for training on multiple devices) seamlessly with Keras.\n",
        "\n",
        "   For example:\n",
        "   - **Model Definition**: You define models using the `tf.keras.Model` class or the `tf.keras.Sequential` class.\n",
        "   - **Loss Functions**: You use TensorFlow's loss functions from `tf.keras.losses`.\n",
        "   - **Optimizers**: You can use TensorFlow optimizers, like `tf.keras.optimizers.Adam`, for training.\n",
        "   - **Callbacks**: Keras also supports TensorFlow's callbacks like `tf.keras.callbacks.TensorBoard`, `ModelCheckpoint`, and `EarlyStopping`.\n",
        "\n",
        "### 3. **Automatic Differentiation and GPU/TPU Support**\n",
        "   The Keras API in TensorFlow 2.0 takes full advantage of TensorFlow’s powerful features, such as:\n",
        "   - **Automatic differentiation**: Keras models use TensorFlow’s `tf.GradientTape` under the hood for automatic gradient calculation and backpropagation.\n",
        "   - **GPU/TPU acceleration**: Keras models can run on multiple GPUs or TPUs with minimal setup by leveraging TensorFlow’s distributed training capabilities.\n"
      ],
      "metadata": {
        "id": "sVU1sI8rTUqu"
      }
    },
    {
      "cell_type": "markdown",
      "source": [
        "**20. What is an example of a deep learning project that can be implemented using TensorFlow 2.0 ?**"
      ],
      "metadata": {
        "id": "dvn5PZnMPkZc"
      }
    },
    {
      "cell_type": "markdown",
      "source": [
        "Ans:\n",
        "\n",
        "One example of a deep learning project that can be implemented using **TensorFlow 2.0** is a **Image Classification System** using Convolutional Neural Networks (CNNs). In this project, you would build a CNN model to classify images from a dataset like CIFAR-10, which contains 60,000 images in 10 different classes (e.g., airplane, car, bird, etc.).\n",
        "\n",
        "### Project Overview: Image Classification using CNN with TensorFlow 2.0\n",
        "\n",
        "#### 1. **Dataset**\n",
        "   - **CIFAR-10 Dataset**: This dataset is available in TensorFlow and consists of 60,000 32x32 color images in 10 classes, with 6,000 images per class.\n",
        "   - The classes include:\n",
        "     - Airplane\n",
        "     - Automobile\n",
        "     - Bird\n",
        "     - Cat\n",
        "     - Deer\n",
        "     - Dog\n",
        "     - Frog\n",
        "     - Horse\n",
        "     - Ship\n",
        "     - Truck\n"
      ],
      "metadata": {
        "id": "FhoYVr_0Wzr7"
      }
    },
    {
      "cell_type": "code",
      "source": [
        "### 2. Steps for Implementing the Image Classification Project\n",
        "import tensorflow as tf\n",
        "from tensorflow.keras import layers, models\n",
        "import numpy as np\n",
        "import matplotlib.pyplot as plt\n",
        "# Load the Dataset: Use TensorFlow to load the CIFAR-10 dataset\n",
        "(train_images, train_labels), (test_images, test_labels) = tf.keras.datasets.cifar10.load_data()\n",
        "#Normalize the Data: Neural networks typically perform better when the data is normalized (scaled between 0 and 1).\n",
        "train_images, test_images = train_images / 255.0, test_images / 255.0\n",
        "#Define the CNN Model: A CNN model will help in extracting spatial features from the images\n",
        "model = models.Sequential([\n",
        "    layers.Conv2D(32, (3, 3), activation='relu', input_shape=(32, 32, 3)),\n",
        "    layers.MaxPooling2D((2, 2)),\n",
        "    layers.Conv2D(64, (3, 3), activation='relu'),\n",
        "    layers.MaxPooling2D((2, 2)),\n",
        "    layers.Conv2D(64, (3, 3), activation='relu'),\n",
        "    layers.Flatten(),\n",
        "    layers.Dense(64, activation='relu'),\n",
        "    layers.Dense(10)\n",
        "])\n",
        "#steps\n",
        "# Adding convolutional layers (Conv2D) to learn spatial features.\n",
        "# Using max-pooling (MaxPooling2D) to reduce dimensionality.\n",
        "# Flattening the 3D feature map to 1D to feed into a fully connected layer.\n",
        "# Finally, we output the predictions through a Dense layer (10 units for the 10 classes).\n",
        "model.compile(optimizer='adam',\n",
        "              loss=tf.keras.losses.SparseCategoricalCrossentropy(from_logits=True),\n",
        "              metrics=['accuracy'])\n",
        "#Train the Model: You can now train the model using the training data. Set the number of epochs and batch size.\n",
        "history = model.fit(train_images, train_labels, epochs=10,\n",
        "                    validation_data=(test_images, test_labels))\n",
        "#Evaluate the Model: After training, you can evaluate the model's performance on the test dataset.\n",
        "test_loss, test_acc = model.evaluate(test_images, test_labels, verbose=2)\n",
        "print('\\nTest accuracy:', test_acc)\n",
        "\n"
      ],
      "metadata": {
        "colab": {
          "base_uri": "https://localhost:8080/"
        },
        "id": "Z6R8QUCCXGPN",
        "outputId": "a49459da-8719-4981-963a-7be0ef7b2513"
      },
      "execution_count": 1,
      "outputs": [
        {
          "output_type": "stream",
          "name": "stdout",
          "text": [
            "Downloading data from https://www.cs.toronto.edu/~kriz/cifar-10-python.tar.gz\n",
            "\u001b[1m170498071/170498071\u001b[0m \u001b[32m━━━━━━━━━━━━━━━━━━━━\u001b[0m\u001b[37m\u001b[0m \u001b[1m7s\u001b[0m 0us/step\n"
          ]
        },
        {
          "output_type": "stream",
          "name": "stderr",
          "text": [
            "/usr/local/lib/python3.10/dist-packages/keras/src/layers/convolutional/base_conv.py:107: UserWarning: Do not pass an `input_shape`/`input_dim` argument to a layer. When using Sequential models, prefer using an `Input(shape)` object as the first layer in the model instead.\n",
            "  super().__init__(activity_regularizer=activity_regularizer, **kwargs)\n"
          ]
        },
        {
          "output_type": "stream",
          "name": "stdout",
          "text": [
            "Epoch 1/10\n",
            "\u001b[1m1563/1563\u001b[0m \u001b[32m━━━━━━━━━━━━━━━━━━━━\u001b[0m\u001b[37m\u001b[0m \u001b[1m13s\u001b[0m 5ms/step - accuracy: 0.3445 - loss: 1.7523 - val_accuracy: 0.5502 - val_loss: 1.2590\n",
            "Epoch 2/10\n",
            "\u001b[1m1563/1563\u001b[0m \u001b[32m━━━━━━━━━━━━━━━━━━━━\u001b[0m\u001b[37m\u001b[0m \u001b[1m15s\u001b[0m 3ms/step - accuracy: 0.5745 - loss: 1.2005 - val_accuracy: 0.6108 - val_loss: 1.0930\n",
            "Epoch 3/10\n",
            "\u001b[1m1563/1563\u001b[0m \u001b[32m━━━━━━━━━━━━━━━━━━━━\u001b[0m\u001b[37m\u001b[0m \u001b[1m10s\u001b[0m 3ms/step - accuracy: 0.6366 - loss: 1.0431 - val_accuracy: 0.6366 - val_loss: 1.0266\n",
            "Epoch 4/10\n",
            "\u001b[1m1563/1563\u001b[0m \u001b[32m━━━━━━━━━━━━━━━━━━━━\u001b[0m\u001b[37m\u001b[0m \u001b[1m5s\u001b[0m 3ms/step - accuracy: 0.6684 - loss: 0.9415 - val_accuracy: 0.6433 - val_loss: 1.0134\n",
            "Epoch 5/10\n",
            "\u001b[1m1563/1563\u001b[0m \u001b[32m━━━━━━━━━━━━━━━━━━━━\u001b[0m\u001b[37m\u001b[0m \u001b[1m5s\u001b[0m 3ms/step - accuracy: 0.6998 - loss: 0.8568 - val_accuracy: 0.6763 - val_loss: 0.9235\n",
            "Epoch 6/10\n",
            "\u001b[1m1563/1563\u001b[0m \u001b[32m━━━━━━━━━━━━━━━━━━━━\u001b[0m\u001b[37m\u001b[0m \u001b[1m5s\u001b[0m 3ms/step - accuracy: 0.7195 - loss: 0.8063 - val_accuracy: 0.6930 - val_loss: 0.8898\n",
            "Epoch 7/10\n",
            "\u001b[1m1563/1563\u001b[0m \u001b[32m━━━━━━━━━━━━━━━━━━━━\u001b[0m\u001b[37m\u001b[0m \u001b[1m10s\u001b[0m 3ms/step - accuracy: 0.7348 - loss: 0.7524 - val_accuracy: 0.7014 - val_loss: 0.8662\n",
            "Epoch 8/10\n",
            "\u001b[1m1563/1563\u001b[0m \u001b[32m━━━━━━━━━━━━━━━━━━━━\u001b[0m\u001b[37m\u001b[0m \u001b[1m9s\u001b[0m 3ms/step - accuracy: 0.7551 - loss: 0.6963 - val_accuracy: 0.7043 - val_loss: 0.8679\n",
            "Epoch 9/10\n",
            "\u001b[1m1563/1563\u001b[0m \u001b[32m━━━━━━━━━━━━━━━━━━━━\u001b[0m\u001b[37m\u001b[0m \u001b[1m5s\u001b[0m 3ms/step - accuracy: 0.7679 - loss: 0.6660 - val_accuracy: 0.6995 - val_loss: 0.8786\n",
            "Epoch 10/10\n",
            "\u001b[1m1563/1563\u001b[0m \u001b[32m━━━━━━━━━━━━━━━━━━━━\u001b[0m\u001b[37m\u001b[0m \u001b[1m4s\u001b[0m 3ms/step - accuracy: 0.7789 - loss: 0.6295 - val_accuracy: 0.7093 - val_loss: 0.8700\n",
            "313/313 - 0s - 2ms/step - accuracy: 0.7093 - loss: 0.8700\n",
            "\n",
            "Test accuracy: 0.7092999815940857\n"
          ]
        }
      ]
    },
    {
      "cell_type": "code",
      "source": [
        "# Make Predictions:  using the trained model to make predictions on new images.\n",
        "predictions = model.predict(test_images)\n",
        "print(\"Predicted class for the first image:\", np.argmax(predictions[0]))\n"
      ],
      "metadata": {
        "colab": {
          "base_uri": "https://localhost:8080/"
        },
        "id": "cR7LbtlEYFPo",
        "outputId": "95a87372-4712-41f0-871d-c757165e7173"
      },
      "execution_count": 4,
      "outputs": [
        {
          "output_type": "stream",
          "name": "stdout",
          "text": [
            "\u001b[1m313/313\u001b[0m \u001b[32m━━━━━━━━━━━━━━━━━━━━\u001b[0m\u001b[37m\u001b[0m \u001b[1m1s\u001b[0m 3ms/step\n",
            "Predicted class for the first image: 5\n"
          ]
        }
      ]
    },
    {
      "cell_type": "code",
      "source": [
        "#Visualize Training Results: It's important to plot the accuracy and loss graphs to monitor the performance of the model during training.\n",
        "plt.plot(history.history['accuracy'], label='accuracy')\n",
        "plt.plot(history.history['val_accuracy'], label = 'val_accuracy')\n",
        "plt.xlabel('Epoch')\n",
        "plt.ylabel('Accuracy')\n",
        "plt.ylim([0, 1])\n",
        "plt.legend(loc='lower right')\n",
        "plt.show()\n",
        "\n",
        "plt.plot(history.history['loss'], label='loss')\n",
        "plt.plot(history.history['val_loss'], label = 'val_loss')\n",
        "plt.xlabel('Epoch')\n",
        "plt.ylabel('Loss')\n",
        "plt.legend(loc='upper right')\n",
        "plt.show()\n"
      ],
      "metadata": {
        "colab": {
          "base_uri": "https://localhost:8080/",
          "height": 887
        },
        "id": "XPEQeMEiZK-s",
        "outputId": "f16cb243-b363-4c03-e02c-c538cd13c365"
      },
      "execution_count": 5,
      "outputs": [
        {
          "output_type": "display_data",
          "data": {
            "text/plain": [
              "<Figure size 640x480 with 1 Axes>"
            ],
            "image/png": "[encoded data removed]"
          },
          "metadata": {}
        },
        {
          "output_type": "display_data",
          "data": {
            "text/plain": [
              "<Figure size 640x480 with 1 Axes>"
            ],
            "image/png": "[encoded data removed]"
          },
          "metadata": {}
        }
      ]
    },
    {
      "cell_type": "markdown",
      "source": [
        "**21. What is the main advantage of using pre-trained models in TensorFlow and PyTorch?**"
      ],
      "metadata": {
        "id": "psaKuMddPkWz"
      }
    },
    {
      "cell_type": "markdown",
      "source": [
        "Ans:\n",
        "\n",
        "The main advantages of using pre-trained models in **TensorFlow** and **PyTorch** are:\n",
        "\n",
        "### 1. **Faster Training and Convergence**:\n",
        "   - **Transfer Learning**: Pre-trained models come with weights that have already been trained on large, general datasets (e.g., ImageNet). These weights capture general patterns and features (like edges, textures, shapes), which can be reused in a new task. As a result, you don't need to start training from scratch, and the model can converge much faster.\n",
        "   - **Reduced Training Time**: Since the model has already learned general features, you only need to fine-tune it for the specific task, reducing the amount of data and time needed to achieve good performance.\n",
        "\n",
        "### 2. **Improved Performance**:\n",
        "   - **Generalization**: Pre-trained models are generally trained on large and diverse datasets, which helps them generalize better to new, unseen data. This often results in better performance for small or medium-sized datasets, especially if the new dataset is related to the one used for training the pre-trained model.\n",
        "   - **Better Results with Less Data**: Fine-tuning a pre-trained model is especially useful when you have limited data. Since the model has already learned features on a large dataset, it can apply those learned features to your smaller dataset.\n",
        "\n",
        "### 3. **Reduced Computational Resources**:\n",
        "   - **Less Need for Computing Power**: Training deep neural networks from scratch requires significant computational resources, especially for large networks. Using pre-trained models allows you to bypass the heavy lifting of training, reducing the need for high-end hardware like GPUs or TPUs.\n",
        "   - **Efficient Use of Available Data**: Pre-trained models allow you to make use of the knowledge embedded in large datasets, which you might not be able to access due to resource limitations.\n",
        "\n",
        "### 4. **Proven Architectures**:\n",
        "   - **Well-Established Models**: Pre-trained models are often built using well-researched and proven architectures (e.g., ResNet, VGG, BERT, etc.). These models are designed and tested for generalization, and using them as a starting point ensures you're leveraging effective architectures.\n",
        "   - **Ready to Use**: Many pre-trained models are available out-of-the-box, meaning you can immediately use them for inference or fine-tuning. This helps in quickly deploying applications without needing to build models from scratch.\n",
        "\n",
        "### 5. **Community and Ecosystem Support**:\n",
        "   - **Pre-trained Models in Libraries**: Both TensorFlow and PyTorch provide easy access to many pre-trained models via `tf.keras.applications` and `torchvision.models`. These libraries are widely used, and many have established best practices for how to use and fine-tune pre-trained models.\n",
        "   - **Wide Adoption**: Since pre-trained models are commonly used across various domains (e.g., computer vision, NLP), they come with extensive documentation, tutorials, and support from the community.\n",
        "\n",
        "### 6. **Flexibility**:\n",
        "   - **Fine-tuning and Customization**: Pre-trained models can be adapted to a wide range of tasks through fine-tuning. You can change the last few layers to customize the model for your specific task (e.g., classification, segmentation, etc.). This allows you to quickly adapt state-of-the-art models to your needs.\n",
        "   - **Flexibility in Layers**: You can also choose to freeze the weights of early layers and only fine-tune the later layers, which speeds up training and reduces the risk of overfitting.\n",
        "\n",
        "### 7. **Better Use of Limited Data**:\n",
        "   - **Handling Small Datasets**: Pre-trained models are particularly helpful when you have limited labeled data. By leveraging transfer learning, you can significantly improve the model's performance even with a small amount of data for the specific task."
      ],
      "metadata": {
        "id": "LnP2nPmSaZX9"
      }
    },
    {
      "cell_type": "markdown",
      "source": [
        "# Practical"
      ],
      "metadata": {
        "id": "wbUEK2zTPkT_"
      }
    },
    {
      "cell_type": "markdown",
      "source": [
        "**1.How do you install and verify that TensorFlow 2.0 was installed successfully ?**"
      ],
      "metadata": {
        "id": "awYawXLMPkQ5"
      }
    },
    {
      "cell_type": "code",
      "source": [
        "pip install tensorflow"
      ],
      "metadata": {
        "id": "4giUJUhyeWBl"
      },
      "execution_count": null,
      "outputs": []
    },
    {
      "cell_type": "code",
      "source": [
        "import tensorflow as tf\n",
        "print(\"TensorFlow version:\", tf.__version__)"
      ],
      "metadata": {
        "colab": {
          "base_uri": "https://localhost:8080/"
        },
        "id": "Tg7X5-jieydi",
        "outputId": "c522922f-3933-42c1-d27d-e23bf0f761e1"
      },
      "execution_count": 6,
      "outputs": [
        {
          "output_type": "stream",
          "name": "stdout",
          "text": [
            "TensorFlow version: 2.17.1\n"
          ]
        }
      ]
    },
    {
      "cell_type": "code",
      "source": [
        "print(\"Is TensorFlow using GPU? \", tf.test.is_gpu_available())"
      ],
      "metadata": {
        "colab": {
          "base_uri": "https://localhost:8080/"
        },
        "id": "U3i_9kJNe2yO",
        "outputId": "1639ea8e-a61a-4506-ca8f-e5148618d4a8"
      },
      "execution_count": 7,
      "outputs": [
        {
          "output_type": "stream",
          "name": "stderr",
          "text": [
            "WARNING:tensorflow:From <ipython-input-7-b71c569b1aaa>:1: is_gpu_available (from tensorflow.python.framework.test_util) is deprecated and will be removed in a future version.\n",
            "Instructions for updating:\n",
            "Use `tf.config.list_physical_devices('GPU')` instead.\n"
          ]
        },
        {
          "output_type": "stream",
          "name": "stdout",
          "text": [
            "Is TensorFlow using GPU?  True\n"
          ]
        }
      ]
    },
    {
      "cell_type": "code",
      "source": [
        "# Create a simple tensor and perform an operation\n",
        "a = tf.constant(5)\n",
        "b = tf.constant(3)\n",
        "c = a + b\n",
        "\n",
        "print(\"Tensor result:\", c)  # This will output: Tensor result: 8\n",
        "print(\"Tensor result:\", c.numpy())\n"
      ],
      "metadata": {
        "colab": {
          "base_uri": "https://localhost:8080/"
        },
        "id": "XnSFHShZhawZ",
        "outputId": "0060eb53-27e0-42ee-e68b-9afa8e00b359"
      },
      "execution_count": 10,
      "outputs": [
        {
          "output_type": "stream",
          "name": "stdout",
          "text": [
            "Tensor result: tf.Tensor(8, shape=(), dtype=int32)\n",
            "Tensor result: 8\n"
          ]
        }
      ]
    },
    {
      "cell_type": "markdown",
      "source": [
        "**2. How can you define a simple function in TensorFlow 2.0 to perform addition ?**"
      ],
      "metadata": {
        "id": "Bx9AMACIPkN_"
      }
    },
    {
      "cell_type": "code",
      "source": [
        "import tensorflow as tf\n",
        " #define a simple function to add two numbers\n",
        "@tf.function\n",
        "def add_numbers(a,b):\n",
        "  return a+b\n",
        "\n",
        "#create two tensors(inputs)\n",
        "x=tf.constant(5)\n",
        "y=tf.constant(3)\n",
        "\n",
        "#call the function and print the result\n",
        "result=add_numbers(x,y)\n",
        "print(\"Addition result: \", result)\n",
        "\n"
      ],
      "metadata": {
        "colab": {
          "base_uri": "https://localhost:8080/"
        },
        "id": "egFEIzXdiFId",
        "outputId": "15ddc4bf-e645-4c22-8718-5761e618d6cb"
      },
      "execution_count": 11,
      "outputs": [
        {
          "output_type": "stream",
          "name": "stdout",
          "text": [
            "Addition result:  tf.Tensor(8, shape=(), dtype=int32)\n"
          ]
        }
      ]
    },
    {
      "cell_type": "markdown",
      "source": [
        "**3. How can you create a simple neural network in TensorFlow 2.0 with one hidden layer ?**"
      ],
      "metadata": {
        "id": "9pDxEiu6Ovk1"
      }
    },
    {
      "cell_type": "code",
      "source": [
        "import numpy as np\n",
        "X_train=np.random.rand(100,3)\n",
        "X_train"
      ],
      "metadata": {
        "colab": {
          "base_uri": "https://localhost:8080/"
        },
        "id": "2-POSh4YmIWL",
        "outputId": "988b1bb0-50b2-462e-a050-8b79177a7e16"
      },
      "execution_count": 3,
      "outputs": [
        {
          "output_type": "execute_result",
          "data": {
            "text/plain": [
              "array([[0.30380419, 0.85852462, 0.38331768],\n",
              "       [0.79517368, 0.7694111 , 0.45943707],\n",
              "       [0.12344113, 0.57664778, 0.67851315],\n",
              "       [0.29565062, 0.28364516, 0.94867712],\n",
              "       [0.186907  , 0.28205435, 0.83422977],\n",
              "       [0.01848144, 0.86562863, 0.30446597],\n",
              "       [0.64062828, 0.9631655 , 0.19512335],\n",
              "       [0.38909168, 0.43455372, 0.37991392],\n",
              "       [0.72205675, 0.21370856, 0.44527081],\n",
              "       [0.00496816, 0.0531973 , 0.86746022],\n",
              "       [0.43843496, 0.51328333, 0.5848821 ],\n",
              "       [0.83385198, 0.24110036, 0.99809279],\n",
              "       [0.70578006, 0.85602698, 0.98938594],\n",
              "       [0.8260366 , 0.83853815, 0.78215893],\n",
              "       [0.54009461, 0.85990684, 0.16863241],\n",
              "       [0.79072461, 0.62372269, 0.84165049],\n",
              "       [0.31159648, 0.56858087, 0.50422504],\n",
              "       [0.29152341, 0.59431232, 0.14938169],\n",
              "       [0.20019397, 0.06043373, 0.20239606],\n",
              "       [0.38709028, 0.32148284, 0.69018902],\n",
              "       [0.98258912, 0.22997775, 0.29559946],\n",
              "       [0.48615127, 0.71270458, 0.78676668],\n",
              "       [0.67691879, 0.65818449, 0.99160212],\n",
              "       [0.84942733, 0.15325741, 0.16245684],\n",
              "       [0.40765517, 0.5428838 , 0.08622877],\n",
              "       [0.64090169, 0.55317892, 0.00191158],\n",
              "       [0.67786023, 0.44700932, 0.51515873],\n",
              "       [0.04067845, 0.07738545, 0.87654827],\n",
              "       [0.99018774, 0.94243285, 0.40441777],\n",
              "       [0.31081677, 0.95417979, 0.19144244],\n",
              "       [0.27378984, 0.25132583, 0.88420103],\n",
              "       [0.95714028, 0.3692113 , 0.62598172],\n",
              "       [0.03199651, 0.19572897, 0.2327361 ],\n",
              "       [0.45622133, 0.0055035 , 0.20160481],\n",
              "       [0.19182703, 0.48068006, 0.31553443],\n",
              "       [0.22006915, 0.08760082, 0.11559442],\n",
              "       [0.1602085 , 0.21915579, 0.70311658],\n",
              "       [0.58626679, 0.32497179, 0.13761234],\n",
              "       [0.42921861, 0.63269201, 0.29955685],\n",
              "       [0.4258115 , 0.7044009 , 0.36552839],\n",
              "       [0.92702782, 0.86569789, 0.71236326],\n",
              "       [0.6833309 , 0.92435479, 0.41491473],\n",
              "       [0.03001206, 0.37036258, 0.82045146],\n",
              "       [0.92917215, 0.35054749, 0.05272761],\n",
              "       [0.81051111, 0.44987588, 0.26311478],\n",
              "       [0.91928246, 0.66102032, 0.15455477],\n",
              "       [0.03130374, 0.16705388, 0.9483538 ],\n",
              "       [0.10800497, 0.5884013 , 0.39415672],\n",
              "       [0.25260678, 0.06512834, 0.08678613],\n",
              "       [0.58891043, 0.95143339, 0.73671192],\n",
              "       [0.52611122, 0.03966229, 0.6182031 ],\n",
              "       [0.65169921, 0.22582322, 0.73677932],\n",
              "       [0.91124547, 0.89870093, 0.42691599],\n",
              "       [0.94998359, 0.22554666, 0.91361523],\n",
              "       [0.3349245 , 0.51722675, 0.58409338],\n",
              "       [0.59388832, 0.57744711, 0.73588748],\n",
              "       [0.17162106, 0.96844319, 0.77332033],\n",
              "       [0.08491011, 0.0459735 , 0.73614036],\n",
              "       [0.57625311, 0.80701813, 0.96227149],\n",
              "       [0.12317117, 0.76396041, 0.45382241],\n",
              "       [0.62333746, 0.22439164, 0.01524185],\n",
              "       [0.21992428, 0.70363986, 0.31375318],\n",
              "       [0.8689649 , 0.09480607, 0.58674377],\n",
              "       [0.13858101, 0.13430715, 0.06444152],\n",
              "       [0.82158101, 0.15159211, 0.34904853],\n",
              "       [0.24571808, 0.06618124, 0.12537411],\n",
              "       [0.61659626, 0.29324155, 0.24608481],\n",
              "       [0.80547467, 0.77023334, 0.24384848],\n",
              "       [0.22630137, 0.07103322, 0.67865707],\n",
              "       [0.87626171, 0.72077832, 0.07446132],\n",
              "       [0.9667394 , 0.8571856 , 0.66674054],\n",
              "       [0.60300882, 0.86921154, 0.3531615 ],\n",
              "       [0.75993491, 0.98649511, 0.42057256],\n",
              "       [0.37988526, 0.51557201, 0.16562358],\n",
              "       [0.52762782, 0.69009034, 0.25842611],\n",
              "       [0.75283295, 0.57724669, 0.92340671],\n",
              "       [0.74319578, 0.03025715, 0.75628075],\n",
              "       [0.25038544, 0.55731148, 0.91276627],\n",
              "       [0.39105503, 0.57341045, 0.35453675],\n",
              "       [0.00913289, 0.12251985, 0.98710411],\n",
              "       [0.71561439, 0.69137054, 0.65131708],\n",
              "       [0.99354373, 0.44621585, 0.320992  ],\n",
              "       [0.30375839, 0.50711099, 0.73203677],\n",
              "       [0.13107272, 0.65583113, 0.48759011],\n",
              "       [0.0899766 , 0.15414209, 0.3187285 ],\n",
              "       [0.76611183, 0.10091087, 0.15824984],\n",
              "       [0.6712592 , 0.20231742, 0.09692323],\n",
              "       [0.6913228 , 0.08508921, 0.49750883],\n",
              "       [0.82191211, 0.89488676, 0.33170564],\n",
              "       [0.19205334, 0.42720163, 0.13367129],\n",
              "       [0.35783497, 0.84464525, 0.08875572],\n",
              "       [0.28523037, 0.79646152, 0.60499847],\n",
              "       [0.84442663, 0.8887237 , 0.17207718],\n",
              "       [0.66323431, 0.68505196, 0.30549571],\n",
              "       [0.23187679, 0.64703926, 0.83664074],\n",
              "       [0.89277388, 0.90232396, 0.08190638],\n",
              "       [0.06854933, 0.94768262, 0.46215847],\n",
              "       [0.63797411, 0.59068273, 0.80644984],\n",
              "       [0.6175967 , 0.27238868, 0.54988343],\n",
              "       [0.74401   , 0.40193322, 0.91152216]])"
            ]
          },
          "metadata": {},
          "execution_count": 3
        }
      ]
    },
    {
      "cell_type": "code",
      "source": [
        "y_train=np.random.randint(2,size=100)\n",
        "y_train"
      ],
      "metadata": {
        "colab": {
          "base_uri": "https://localhost:8080/"
        },
        "id": "VETMNYZYmL4q",
        "outputId": "4bdbc2f2-cb2e-468e-99d1-e3f6f0f0c888"
      },
      "execution_count": 4,
      "outputs": [
        {
          "output_type": "execute_result",
          "data": {
            "text/plain": [
              "array([1, 1, 1, 0, 0, 1, 0, 0, 1, 0, 0, 1, 1, 0, 0, 0, 0, 1, 1, 1, 0, 0,\n",
              "       1, 0, 1, 0, 0, 0, 1, 0, 1, 1, 0, 1, 1, 1, 1, 1, 0, 0, 0, 1, 0, 1,\n",
              "       1, 0, 0, 0, 1, 1, 1, 0, 1, 1, 1, 1, 1, 1, 0, 0, 0, 1, 1, 1, 1, 0,\n",
              "       0, 1, 0, 1, 1, 1, 1, 0, 1, 0, 0, 1, 0, 0, 0, 1, 1, 1, 1, 0, 0, 1,\n",
              "       1, 0, 1, 0, 1, 0, 1, 1, 0, 0, 1, 0])"
            ]
          },
          "metadata": {},
          "execution_count": 4
        }
      ]
    },
    {
      "cell_type": "code",
      "source": [
        "import tensorflow as tf\n",
        "from tensorflow.keras import layers,models\n",
        "\n",
        "#define the model\n",
        "model=models.Sequential()\n",
        "\n",
        "#input layer (3 input features)\n",
        "#first hidden layer with 5 neurans, using relu activation function\n",
        "model.add(layers.Dense(5,activation='relu',input_shape=(3,)))\n",
        "\n",
        "#output layer with 1 neuron (for binary classifaction)\n",
        "model.add(layers.Dense(1,activation='sigmoid'))\n",
        "\n",
        "#compile the model\n",
        "model.compile(optimizer='adam',\n",
        "              loss='binary_crossentropy',\n",
        "              metrics=['accuracy'])\n",
        "#display the model architecture\n",
        "model.summary()\n",
        "\n",
        "#example : generating random data for training\n",
        "import numpy as np\n",
        "X_train=np.random.rand(100,3) #100 sample with 3 features\n",
        "y_train=np.random.randint(2,size=100) #100 binary labels(0 or 1)\n",
        "\n",
        "#train the model\n",
        "history=model.fit(X_train,y_train,epochs=10,batch_size=32)\n",
        "\n",
        "#Example prediction\n",
        "X_test=np.random.rand(10,3) #10 new samples for testing\n",
        "predictions=model.predict(X_test)\n",
        "\n",
        "print(\"Predictions\",predictions)"
      ],
      "metadata": {
        "colab": {
          "base_uri": "https://localhost:8080/",
          "height": 786
        },
        "id": "doAsTk55jshW",
        "outputId": "1b15c958-2dfd-4126-a25b-0cc4d0bdc199"
      },
      "execution_count": 6,
      "outputs": [
        {
          "output_type": "stream",
          "name": "stderr",
          "text": [
            "/usr/local/lib/python3.10/dist-packages/keras/src/layers/core/dense.py:87: UserWarning: Do not pass an `input_shape`/`input_dim` argument to a layer. When using Sequential models, prefer using an `Input(shape)` object as the first layer in the model instead.\n",
            "  super().__init__(activity_regularizer=activity_regularizer, **kwargs)\n"
          ]
        },
        {
          "output_type": "display_data",
          "data": {
            "text/plain": [
              "\u001b[1mModel: \"sequential_1\"\u001b[0m\n"
            ],
            "text/html": [
              "<pre style=\"white-space:pre;overflow-x:auto;line-height:normal;font-family:Menlo,'DejaVu Sans Mono',consolas,'Courier New',monospace\"><span style=\"font-weight: bold\">Model: \"sequential_1\"</span>\n",
              "</pre>\n"
            ]
          },
          "metadata": {}
        },
        {
          "output_type": "display_data",
          "data": {
            "text/plain": [
              "┏━━━━━━━━━━━━━━━━━━━━━━━━━━━━━━━━━━━━━━┳━━━━━━━━━━━━━━━━━━━━━━━━━━━━━┳━━━━━━━━━━━━━━━━━┓\n",
              "┃\u001b[1m \u001b[0m\u001b[1mLayer (type)                        \u001b[0m\u001b[1m \u001b[0m┃\u001b[1m \u001b[0m\u001b[1mOutput Shape               \u001b[0m\u001b[1m \u001b[0m┃\u001b[1m \u001b[0m\u001b[1m        Param #\u001b[0m\u001b[1m \u001b[0m┃\n",
              "┡━━━━━━━━━━━━━━━━━━━━━━━━━━━━━━━━━━━━━━╇━━━━━━━━━━━━━━━━━━━━━━━━━━━━━╇━━━━━━━━━━━━━━━━━┩\n",
              "│ dense_2 (\u001b[38;5;33mDense\u001b[0m)                      │ (\u001b[38;5;45mNone\u001b[0m, \u001b[38;5;34m5\u001b[0m)                   │              \u001b[38;5;34m20\u001b[0m │\n",
              "├──────────────────────────────────────┼─────────────────────────────┼─────────────────┤\n",
              "│ dense_3 (\u001b[38;5;33mDense\u001b[0m)                      │ (\u001b[38;5;45mNone\u001b[0m, \u001b[38;5;34m1\u001b[0m)                   │               \u001b[38;5;34m6\u001b[0m │\n",
              "└──────────────────────────────────────┴─────────────────────────────┴─────────────────┘\n"
            ],
            "text/html": [
              "<pre style=\"white-space:pre;overflow-x:auto;line-height:normal;font-family:Menlo,'DejaVu Sans Mono',consolas,'Courier New',monospace\">┏━━━━━━━━━━━━━━━━━━━━━━━━━━━━━━━━━━━━━━┳━━━━━━━━━━━━━━━━━━━━━━━━━━━━━┳━━━━━━━━━━━━━━━━━┓\n",
              "┃<span style=\"font-weight: bold\"> Layer (type)                         </span>┃<span style=\"font-weight: bold\"> Output Shape                </span>┃<span style=\"font-weight: bold\">         Param # </span>┃\n",
              "┡━━━━━━━━━━━━━━━━━━━━━━━━━━━━━━━━━━━━━━╇━━━━━━━━━━━━━━━━━━━━━━━━━━━━━╇━━━━━━━━━━━━━━━━━┩\n",
              "│ dense_2 (<span style=\"color: #0087ff; text-decoration-color: #0087ff\">Dense</span>)                      │ (<span style=\"color: #00d7ff; text-decoration-color: #00d7ff\">None</span>, <span style=\"color: #00af00; text-decoration-color: #00af00\">5</span>)                   │              <span style=\"color: #00af00; text-decoration-color: #00af00\">20</span> │\n",
              "├──────────────────────────────────────┼─────────────────────────────┼─────────────────┤\n",
              "│ dense_3 (<span style=\"color: #0087ff; text-decoration-color: #0087ff\">Dense</span>)                      │ (<span style=\"color: #00d7ff; text-decoration-color: #00d7ff\">None</span>, <span style=\"color: #00af00; text-decoration-color: #00af00\">1</span>)                   │               <span style=\"color: #00af00; text-decoration-color: #00af00\">6</span> │\n",
              "└──────────────────────────────────────┴─────────────────────────────┴─────────────────┘\n",
              "</pre>\n"
            ]
          },
          "metadata": {}
        },
        {
          "output_type": "display_data",
          "data": {
            "text/plain": [
              "\u001b[1m Total params: \u001b[0m\u001b[38;5;34m26\u001b[0m (104.00 B)\n"
            ],
            "text/html": [
              "<pre style=\"white-space:pre;overflow-x:auto;line-height:normal;font-family:Menlo,'DejaVu Sans Mono',consolas,'Courier New',monospace\"><span style=\"font-weight: bold\"> Total params: </span><span style=\"color: #00af00; text-decoration-color: #00af00\">26</span> (104.00 B)\n",
              "</pre>\n"
            ]
          },
          "metadata": {}
        },
        {
          "output_type": "display_data",
          "data": {
            "text/plain": [
              "\u001b[1m Trainable params: \u001b[0m\u001b[38;5;34m26\u001b[0m (104.00 B)\n"
            ],
            "text/html": [
              "<pre style=\"white-space:pre;overflow-x:auto;line-height:normal;font-family:Menlo,'DejaVu Sans Mono',consolas,'Courier New',monospace\"><span style=\"font-weight: bold\"> Trainable params: </span><span style=\"color: #00af00; text-decoration-color: #00af00\">26</span> (104.00 B)\n",
              "</pre>\n"
            ]
          },
          "metadata": {}
        },
        {
          "output_type": "display_data",
          "data": {
            "text/plain": [
              "\u001b[1m Non-trainable params: \u001b[0m\u001b[38;5;34m0\u001b[0m (0.00 B)\n"
            ],
            "text/html": [
              "<pre style=\"white-space:pre;overflow-x:auto;line-height:normal;font-family:Menlo,'DejaVu Sans Mono',consolas,'Courier New',monospace\"><span style=\"font-weight: bold\"> Non-trainable params: </span><span style=\"color: #00af00; text-decoration-color: #00af00\">0</span> (0.00 B)\n",
              "</pre>\n"
            ]
          },
          "metadata": {}
        },
        {
          "output_type": "stream",
          "name": "stdout",
          "text": [
            "Epoch 1/10\n",
            "\u001b[1m4/4\u001b[0m \u001b[32m━━━━━━━━━━━━━━━━━━━━\u001b[0m\u001b[37m\u001b[0m \u001b[1m1s\u001b[0m 135ms/step - accuracy: 0.5502 - loss: 0.7004\n",
            "Epoch 2/10\n",
            "\u001b[1m4/4\u001b[0m \u001b[32m━━━━━━━━━━━━━━━━━━━━\u001b[0m\u001b[37m\u001b[0m \u001b[1m0s\u001b[0m 3ms/step - accuracy: 0.5440 - loss: 0.7077  \n",
            "Epoch 3/10\n",
            "\u001b[1m4/4\u001b[0m \u001b[32m━━━━━━━━━━━━━━━━━━━━\u001b[0m\u001b[37m\u001b[0m \u001b[1m0s\u001b[0m 3ms/step - accuracy: 0.5419 - loss: 0.7064 \n",
            "Epoch 4/10\n",
            "\u001b[1m4/4\u001b[0m \u001b[32m━━━━━━━━━━━━━━━━━━━━\u001b[0m\u001b[37m\u001b[0m \u001b[1m0s\u001b[0m 3ms/step - accuracy: 0.5658 - loss: 0.6966 \n",
            "Epoch 5/10\n",
            "\u001b[1m4/4\u001b[0m \u001b[32m━━━━━━━━━━━━━━━━━━━━\u001b[0m\u001b[37m\u001b[0m \u001b[1m0s\u001b[0m 3ms/step - accuracy: 0.4941 - loss: 0.7142 \n",
            "Epoch 6/10\n",
            "\u001b[1m4/4\u001b[0m \u001b[32m━━━━━━━━━━━━━━━━━━━━\u001b[0m\u001b[37m\u001b[0m \u001b[1m0s\u001b[0m 3ms/step - accuracy: 0.5224 - loss: 0.7058 \n",
            "Epoch 7/10\n",
            "\u001b[1m4/4\u001b[0m \u001b[32m━━━━━━━━━━━━━━━━━━━━\u001b[0m\u001b[37m\u001b[0m \u001b[1m0s\u001b[0m 3ms/step - accuracy: 0.5464 - loss: 0.6974 \n",
            "Epoch 8/10\n",
            "\u001b[1m4/4\u001b[0m \u001b[32m━━━━━━━━━━━━━━━━━━━━\u001b[0m\u001b[37m\u001b[0m \u001b[1m0s\u001b[0m 4ms/step - accuracy: 0.5066 - loss: 0.7124 \n",
            "Epoch 9/10\n",
            "\u001b[1m4/4\u001b[0m \u001b[32m━━━━━━━━━━━━━━━━━━━━\u001b[0m\u001b[37m\u001b[0m \u001b[1m0s\u001b[0m 3ms/step - accuracy: 0.5347 - loss: 0.7016 \n",
            "Epoch 10/10\n",
            "\u001b[1m4/4\u001b[0m \u001b[32m━━━━━━━━━━━━━━━━━━━━\u001b[0m\u001b[37m\u001b[0m \u001b[1m0s\u001b[0m 3ms/step - accuracy: 0.5077 - loss: 0.7143 \n",
            "\u001b[1m1/1\u001b[0m \u001b[32m━━━━━━━━━━━━━━━━━━━━\u001b[0m\u001b[37m\u001b[0m \u001b[1m0s\u001b[0m 77ms/step\n",
            "Predictions [[0.6523831 ]\n",
            " [0.63832474]\n",
            " [0.560681  ]\n",
            " [0.58653843]\n",
            " [0.5710282 ]\n",
            " [0.5406406 ]\n",
            " [0.6216506 ]\n",
            " [0.47532883]\n",
            " [0.49603438]\n",
            " [0.61598116]]\n"
          ]
        }
      ]
    },
    {
      "cell_type": "markdown",
      "source": [
        "**4. How can you visualize the training progress using TensorFlow and Matplotlib ?**"
      ],
      "metadata": {
        "id": "N66PaQy-Q1mQ"
      }
    },
    {
      "cell_type": "code",
      "source": [
        "import tensorflow as tf\n",
        "import matplotlib.pyplot as plt\n",
        "\n",
        "# Define a simple neural network model\n",
        "model = tf.keras.Sequential([\n",
        "    tf.keras.layers.Dense(64, activation='relu', input_shape=(10,)),\n",
        "    tf.keras.layers.Dense(1, activation='sigmoid')\n",
        "])\n",
        "\n",
        "# Compile the model\n",
        "model.compile(optimizer='adam', loss='binary_crossentropy', metrics=['accuracy'])\n",
        "\n",
        "# Generate some random training data\n",
        "import numpy as np\n",
        "X_train = np.random.rand(1000, 10)  # 1000 samples with 10 features\n",
        "y_train = np.random.randint(2, size=1000)  # 1000 binary labels (0 or 1)\n",
        "\n",
        "# Train the model and save the history\n",
        "history = model.fit(X_train, y_train, epochs=20, batch_size=32, validation_split=0.2)\n",
        "\n",
        "# Extract training loss and accuracy from the history\n",
        "train_loss = history.history['loss']\n",
        "train_accuracy = history.history['accuracy']\n",
        "val_loss = history.history['val_loss']\n",
        "val_accuracy = history.history['val_accuracy']\n",
        "\n",
        "# Plot training and validation loss\n",
        "plt.figure(figsize=(12, 6))\n",
        "\n",
        "# Loss plot\n",
        "plt.subplot(1, 2, 1)\n",
        "plt.plot(train_loss, label='Training Loss')\n",
        "plt.plot(val_loss, label='Validation Loss')\n",
        "plt.title('Training and Validation Loss')\n",
        "plt.xlabel('Epochs')\n",
        "plt.ylabel('Loss')\n",
        "plt.legend()\n",
        "\n",
        "# Accuracy plot\n",
        "plt.subplot(1, 2, 2)\n",
        "plt.plot(train_accuracy, label='Training Accuracy')\n",
        "plt.plot(val_accuracy, label='Validation Accuracy')\n",
        "plt.title('Training and Validation Accuracy')\n",
        "plt.xlabel('Epochs')\n",
        "plt.ylabel('Accuracy')\n",
        "plt.legend()\n",
        "\n",
        "# Show the plots\n",
        "plt.tight_layout()\n",
        "plt.show()\n"
      ],
      "metadata": {
        "colab": {
          "base_uri": "https://localhost:8080/",
          "height": 1000
        },
        "id": "l4LVbqebobxW",
        "outputId": "e2431d68-aa3a-4b36-a932-2f3001704778"
      },
      "execution_count": 8,
      "outputs": [
        {
          "output_type": "stream",
          "name": "stdout",
          "text": [
            "Epoch 1/20\n",
            "\u001b[1m25/25\u001b[0m \u001b[32m━━━━━━━━━━━━━━━━━━━━\u001b[0m\u001b[37m\u001b[0m \u001b[1m2s\u001b[0m 34ms/step - accuracy: 0.4954 - loss: 0.7036 - val_accuracy: 0.4850 - val_loss: 0.7012\n",
            "Epoch 2/20\n",
            "\u001b[1m25/25\u001b[0m \u001b[32m━━━━━━━━━━━━━━━━━━━━\u001b[0m\u001b[37m\u001b[0m \u001b[1m1s\u001b[0m 4ms/step - accuracy: 0.4930 - loss: 0.6972 - val_accuracy: 0.4950 - val_loss: 0.6984\n",
            "Epoch 3/20\n",
            "\u001b[1m25/25\u001b[0m \u001b[32m━━━━━━━━━━━━━━━━━━━━\u001b[0m\u001b[37m\u001b[0m \u001b[1m0s\u001b[0m 5ms/step - accuracy: 0.5131 - loss: 0.6933 - val_accuracy: 0.4800 - val_loss: 0.6991\n",
            "Epoch 4/20\n",
            "\u001b[1m25/25\u001b[0m \u001b[32m━━━━━━━━━━━━━━━━━━━━\u001b[0m\u001b[37m\u001b[0m \u001b[1m0s\u001b[0m 4ms/step - accuracy: 0.5010 - loss: 0.6936 - val_accuracy: 0.4950 - val_loss: 0.6977\n",
            "Epoch 5/20\n",
            "\u001b[1m25/25\u001b[0m \u001b[32m━━━━━━━━━━━━━━━━━━━━\u001b[0m\u001b[37m\u001b[0m \u001b[1m0s\u001b[0m 3ms/step - accuracy: 0.5565 - loss: 0.6900 - val_accuracy: 0.4700 - val_loss: 0.6988\n",
            "Epoch 6/20\n",
            "\u001b[1m25/25\u001b[0m \u001b[32m━━━━━━━━━━━━━━━━━━━━\u001b[0m\u001b[37m\u001b[0m \u001b[1m0s\u001b[0m 3ms/step - accuracy: 0.5600 - loss: 0.6895 - val_accuracy: 0.5000 - val_loss: 0.6982\n",
            "Epoch 7/20\n",
            "\u001b[1m25/25\u001b[0m \u001b[32m━━━━━━━━━━━━━━━━━━━━\u001b[0m\u001b[37m\u001b[0m \u001b[1m0s\u001b[0m 3ms/step - accuracy: 0.5548 - loss: 0.6890 - val_accuracy: 0.4950 - val_loss: 0.6979\n",
            "Epoch 8/20\n",
            "\u001b[1m25/25\u001b[0m \u001b[32m━━━━━━━━━━━━━━━━━━━━\u001b[0m\u001b[37m\u001b[0m \u001b[1m0s\u001b[0m 3ms/step - accuracy: 0.5580 - loss: 0.6893 - val_accuracy: 0.4650 - val_loss: 0.6999\n",
            "Epoch 9/20\n",
            "\u001b[1m25/25\u001b[0m \u001b[32m━━━━━━━━━━━━━━━━━━━━\u001b[0m\u001b[37m\u001b[0m \u001b[1m0s\u001b[0m 3ms/step - accuracy: 0.5320 - loss: 0.6902 - val_accuracy: 0.5000 - val_loss: 0.6956\n",
            "Epoch 10/20\n",
            "\u001b[1m25/25\u001b[0m \u001b[32m━━━━━━━━━━━━━━━━━━━━\u001b[0m\u001b[37m\u001b[0m \u001b[1m0s\u001b[0m 3ms/step - accuracy: 0.5545 - loss: 0.6866 - val_accuracy: 0.4650 - val_loss: 0.7012\n",
            "Epoch 11/20\n",
            "\u001b[1m25/25\u001b[0m \u001b[32m━━━━━━━━━━━━━━━━━━━━\u001b[0m\u001b[37m\u001b[0m \u001b[1m0s\u001b[0m 3ms/step - accuracy: 0.5381 - loss: 0.6864 - val_accuracy: 0.4550 - val_loss: 0.6994\n",
            "Epoch 12/20\n",
            "\u001b[1m25/25\u001b[0m \u001b[32m━━━━━━━━━━━━━━━━━━━━\u001b[0m\u001b[37m\u001b[0m \u001b[1m0s\u001b[0m 3ms/step - accuracy: 0.5357 - loss: 0.6884 - val_accuracy: 0.4850 - val_loss: 0.6968\n",
            "Epoch 13/20\n",
            "\u001b[1m25/25\u001b[0m \u001b[32m━━━━━━━━━━━━━━━━━━━━\u001b[0m\u001b[37m\u001b[0m \u001b[1m0s\u001b[0m 3ms/step - accuracy: 0.5800 - loss: 0.6840 - val_accuracy: 0.4450 - val_loss: 0.6998\n",
            "Epoch 14/20\n",
            "\u001b[1m25/25\u001b[0m \u001b[32m━━━━━━━━━━━━━━━━━━━━\u001b[0m\u001b[37m\u001b[0m \u001b[1m0s\u001b[0m 3ms/step - accuracy: 0.5453 - loss: 0.6861 - val_accuracy: 0.4500 - val_loss: 0.7011\n",
            "Epoch 15/20\n",
            "\u001b[1m25/25\u001b[0m \u001b[32m━━━━━━━━━━━━━━━━━━━━\u001b[0m\u001b[37m\u001b[0m \u001b[1m0s\u001b[0m 3ms/step - accuracy: 0.5683 - loss: 0.6854 - val_accuracy: 0.4700 - val_loss: 0.7004\n",
            "Epoch 16/20\n",
            "\u001b[1m25/25\u001b[0m \u001b[32m━━━━━━━━━━━━━━━━━━━━\u001b[0m\u001b[37m\u001b[0m \u001b[1m0s\u001b[0m 3ms/step - accuracy: 0.5509 - loss: 0.6860 - val_accuracy: 0.4650 - val_loss: 0.6996\n",
            "Epoch 17/20\n",
            "\u001b[1m25/25\u001b[0m \u001b[32m━━━━━━━━━━━━━━━━━━━━\u001b[0m\u001b[37m\u001b[0m \u001b[1m0s\u001b[0m 3ms/step - accuracy: 0.5730 - loss: 0.6867 - val_accuracy: 0.4850 - val_loss: 0.6968\n",
            "Epoch 18/20\n",
            "\u001b[1m25/25\u001b[0m \u001b[32m━━━━━━━━━━━━━━━━━━━━\u001b[0m\u001b[37m\u001b[0m \u001b[1m0s\u001b[0m 3ms/step - accuracy: 0.5549 - loss: 0.6869 - val_accuracy: 0.4450 - val_loss: 0.7027\n",
            "Epoch 19/20\n",
            "\u001b[1m25/25\u001b[0m \u001b[32m━━━━━━━━━━━━━━━━━━━━\u001b[0m\u001b[37m\u001b[0m \u001b[1m0s\u001b[0m 3ms/step - accuracy: 0.5489 - loss: 0.6850 - val_accuracy: 0.4350 - val_loss: 0.7035\n",
            "Epoch 20/20\n",
            "\u001b[1m25/25\u001b[0m \u001b[32m━━━━━━━━━━━━━━━━━━━━\u001b[0m\u001b[37m\u001b[0m \u001b[1m0s\u001b[0m 3ms/step - accuracy: 0.5388 - loss: 0.6868 - val_accuracy: 0.4750 - val_loss: 0.7013\n"
          ]
        },
        {
          "output_type": "display_data",
          "data": {
            "text/plain": [
              "<Figure size 1200x600 with 2 Axes>"
            ],
            "image/png": "[encoded data removed]"
          },
          "metadata": {}
        }
      ]
    },
    {
      "cell_type": "markdown",
      "source": [
        "**5. How do you install PyTorch and verify the PyTorch installation?**"
      ],
      "metadata": {
        "id": "fM2zb91yQ1ix"
      }
    },
    {
      "cell_type": "code",
      "source": [
        "##Using pip\n",
        "#For CPU-only\n",
        "pip install torch torchvision torchaudio\n",
        "\n",
        "#For GPU (with CUDA 11.8)\n",
        "pip install torch torchvision torchaudio --index-url https://download.pytorch.org/whl/cu118\n",
        "\n",
        "##Using conda\n",
        "#For CPU-only\n",
        "conda install pytorch torchvision torchaudio cpuonly -c pytorch\n",
        "#For GPU (with CUDA 11.8\n",
        "conda install pytorch torchvision torchaudio pytorch-cuda=11.8 -c pytorch -c nvidia\n",
        "\n",
        "#for verifying the installation\n",
        "import torch\n",
        "print(torch.__version__)\n"
      ],
      "metadata": {
        "id": "otRCmMJgonC-"
      },
      "execution_count": null,
      "outputs": []
    },
    {
      "cell_type": "markdown",
      "source": [
        "**6. How do you create a simple neural network in PyTorch ?**"
      ],
      "metadata": {
        "id": "5MPc4gnHQ1gN"
      }
    },
    {
      "cell_type": "code",
      "source": [
        "#Simple Neural Network in PyTorch\n",
        "import torch\n",
        "import torch.nn as nn\n",
        "import torch.optim as optim\n",
        "import torch.nn.functional as F\n",
        "\n",
        "#define the neural network\n",
        "class SimpleNN(nn.Module):\n",
        "  def __init__(self,input_size,hidden_size,output_size):\n",
        "    super(SimpleNN,self).__init__()\n",
        "    #define layers\n",
        "    self.fc1=nn.Linear(input_size,hidden_size) #fully connected layer 1\n",
        "    self.fc2=nn.Linear(hidden_size,output_size) #fully connected layer 2\n",
        "\n",
        "  def forward(self,x):\n",
        "  #Define the forward pass\n",
        "      x = F.relu(self.fc1(x)) #activation after first layer\n",
        "      x=self.fc2(x)  #output layer\n",
        "      return x\n",
        "\n",
        "#Hyperparameters\n",
        "input_size=2 #Number of input features\n",
        "hidden_size=4 #number of neuron in hidden layer\n",
        "output_size=1 #number of output features\n",
        "learning_rate=0.01\n",
        "epochs=100\n",
        "\n",
        "#crate the model\n",
        "model=SimpleNN(input_size,hidden_size,output_size)\n",
        "\n",
        "#define loss function and optimizer\n",
        "criterion=nn.MSELoss() #mean square for regression\n",
        "optimizer=optim.SGD(model.parameters(),lr=learning_rate)\n",
        "\n",
        "# Dummy dataset\n",
        "X = torch.tensor([[1.0, 2.0], [2.0, 3.0], [3.0, 4.0]], dtype=torch.float32)  # Input\n",
        "y = torch.tensor([[5.0], [7.0], [9.0]], dtype=torch.float32)                # Output\n",
        "\n",
        "#training the model\n",
        "for epoch in range(epochs):\n",
        "  #forward pass\n",
        "  predictions=model(X)\n",
        "  loss=criterion(predictions,y)\n",
        "\n",
        "  #backward pass\n",
        "  optimizer.zero_grad() #clear previous gradients\n",
        "  loss.backward()       #copute gradients\n",
        "  optimizer.step()      #update weigts\n",
        "\n",
        "  #print loss evry 10 epchs\n",
        "  if (epoch + 1) % 10 ==0:\n",
        "    print(f\"Epoch [{epoch + 1}/{epochs}], Loss:{loss.item():.4f}\")\n",
        "\n",
        "#test the model\n",
        "test_input=torch.tensor([[4.0,5.0]],dtype=torch.float32)\n",
        "test_output=model(test_input)\n",
        "print(f\"prediction for input {test_input.tolist()}:{test_output.item():.4f}\")\n"
      ],
      "metadata": {
        "colab": {
          "base_uri": "https://localhost:8080/"
        },
        "id": "BpW8IuTTrBQj",
        "outputId": "97b5d668-961b-454e-80e7-88b812f4200f"
      },
      "execution_count": 10,
      "outputs": [
        {
          "output_type": "stream",
          "name": "stdout",
          "text": [
            "Epoch [10/100], Loss:0.0940\n",
            "Epoch [20/100], Loss:0.0814\n",
            "Epoch [30/100], Loss:0.0705\n",
            "Epoch [40/100], Loss:0.0611\n",
            "Epoch [50/100], Loss:0.0533\n",
            "Epoch [60/100], Loss:0.0465\n",
            "Epoch [70/100], Loss:0.0405\n",
            "Epoch [80/100], Loss:0.0353\n",
            "Epoch [90/100], Loss:0.0308\n",
            "Epoch [100/100], Loss:0.0269\n",
            "prediction for input [[4.0, 5.0]]:11.3414\n"
          ]
        }
      ]
    },
    {
      "cell_type": "markdown",
      "source": [
        "**7. How do you define a loss function and optimizer in PyTorch ?**"
      ],
      "metadata": {
        "id": "KdP6qboDQ1dh"
      }
    },
    {
      "cell_type": "code",
      "source": [
        "import torch\n",
        "import torch.nn as nn\n",
        "import torch.optim as optim\n",
        "\n",
        "# Example model\n",
        "class SimpleModel(nn.Module):\n",
        "    def __init__(self):\n",
        "        super(SimpleModel, self).__init__()\n",
        "        self.fc = nn.Linear(2, 1)  # Fully connected layer\n",
        "\n",
        "    def forward(self, x):\n",
        "        return self.fc(x)\n",
        "\n",
        "# Create the model\n",
        "model = SimpleModel()\n",
        "\n",
        "# Define the loss function (MSELoss for regression)\n",
        "loss_function = nn.MSELoss()\n",
        "\n",
        "# Define the optimizer (SGD with learning rate 0.01)\n",
        "optimizer = optim.SGD(model.parameters(), lr=0.01)\n",
        "\n",
        "# Example data\n",
        "X = torch.tensor([[1.0, 2.0], [2.0, 3.0], [3.0, 4.0]])  # Input data\n",
        "y = torch.tensor([[5.0], [7.0], [9.0]])                # Target output\n",
        "\n",
        "# Forward pass: Predict outputs\n",
        "predictions = model(X)\n",
        "\n",
        "# Calculate loss\n",
        "loss = loss_function(predictions, y)\n",
        "print(\"Initial Loss:\", loss.item())\n",
        "\n",
        "# Backward pass: Compute gradients\n",
        "optimizer.zero_grad()  # Clear gradients from previous step\n",
        "loss.backward()        # Compute gradients of loss w.r.t. parameters\n",
        "\n",
        "# Update model parameters\n",
        "optimizer.step()       # Perform optimization step\n",
        "\n",
        "# Check updated parameters\n",
        "print(\"Updated parameters:\", list(model.parameters()))\n"
      ],
      "metadata": {
        "colab": {
          "base_uri": "https://localhost:8080/"
        },
        "id": "OXVNukgwwt6X",
        "outputId": "ede9ad22-c523-4c7e-f73e-99152916d91a"
      },
      "execution_count": 1,
      "outputs": [
        {
          "output_type": "stream",
          "name": "stdout",
          "text": [
            "Initial Loss: 90.91834259033203\n",
            "Updated parameters: [Parameter containing:\n",
            "tensor([[-0.2781,  0.2149]], requires_grad=True), Parameter containing:\n",
            "tensor([0.4912], requires_grad=True)]\n"
          ]
        }
      ]
    },
    {
      "cell_type": "markdown",
      "source": [
        "**8. How do you implement a custom loss function in PyTorch ?**"
      ],
      "metadata": {
        "id": "LGxzESWkQ1bH"
      }
    },
    {
      "cell_type": "code",
      "source": [
        "import torch\n",
        "\n",
        "def custom_mape_loss(predictions, targets):\n",
        "    \"\"\"\n",
        "    Computes Mean Absolute Percentage Error (MAPE)\n",
        "    :param predictions: Predicted values\n",
        "    :param targets: True values\n",
        "    \"\"\"\n",
        "    epsilon = 1e-8  # To avoid division by zero\n",
        "    loss = torch.mean(torch.abs((targets - predictions) / (targets + epsilon)))\n",
        "    return loss\n",
        "\n",
        "# Example data\n",
        "predictions = torch.tensor([2.5, 0.0, 2.1], requires_grad=True)\n",
        "targets = torch.tensor([3.0, -0.5, 2.0])\n",
        "\n",
        "# Compute custom loss\n",
        "loss = custom_mape_loss(predictions, targets)\n",
        "print(\"Custom Loss (MAPE):\", loss.item())\n"
      ],
      "metadata": {
        "colab": {
          "base_uri": "https://localhost:8080/"
        },
        "id": "aUAPe0y6OrLA",
        "outputId": "abc6bbdc-133d-4583-e15b-8b8250a2b573"
      },
      "execution_count": 2,
      "outputs": [
        {
          "output_type": "stream",
          "name": "stdout",
          "text": [
            "Custom Loss (MAPE): 0.40555551648139954\n"
          ]
        }
      ]
    },
    {
      "cell_type": "markdown",
      "source": [
        "**9. How do you save and load a TensorFlow model**"
      ],
      "metadata": {
        "id": "UHFjkjHOQ1V5"
      }
    },
    {
      "cell_type": "markdown",
      "source": [
        "Ans:\n",
        "\n",
        "In TensorFlow, saving and loading models is an essential step to persist the training process and deploy models into production. TensorFlow provides two main formats for saving and loading models:\n",
        "\n",
        "SavedModel Format (recommended, default format in TensorFlow 2.0+).\n",
        "HDF5 Format (legacy format)."
      ],
      "metadata": {
        "id": "hZZLHxUAPl-P"
      }
    },
    {
      "cell_type": "code",
      "source": [
        "import tensorflow as tf\n",
        "import os\n",
        "\n",
        "# Create a simple model\n",
        "model = tf.keras.Sequential([\n",
        "    tf.keras.layers.Dense(128, activation='relu', input_shape=(10,)),\n",
        "    tf.keras.layers.Dense(64, activation='relu'),\n",
        "    tf.keras.layers.Dense(1, activation='sigmoid')\n",
        "])\n",
        "\n",
        "# Compile the model\n",
        "model.compile(optimizer='adam', loss='binary_crossentropy', metrics=['accuracy'])s\n",
        "\n",
        "# Ensure the directory exists\n",
        "save_dir = \"saved_model\"\n",
        "os.makedirs(save_dir, exist_ok=True)\n",
        "\n",
        "# Save the model in .keras format\n",
        "model.save(f\"{save_dir}/my_model.keras\")  # Saved to 'saved_model/my_model.keras'\n",
        "\n",
        "print(\"Model saved successfully!\")\n"
      ],
      "metadata": {
        "colab": {
          "base_uri": "https://localhost:8080/"
        },
        "id": "Nz8PqyQ_Os9o",
        "outputId": "d2de9b68-90f1-4762-8a86-75d110e8aff0"
      },
      "execution_count": 5,
      "outputs": [
        {
          "output_type": "stream",
          "name": "stdout",
          "text": [
            "Model saved successfully!\n"
          ]
        }
      ]
    },
    {
      "cell_type": "code",
      "source": [
        "#>Loading the Model\n",
        "loaded_model = tf.keras.models.load_model(\"saved_model/my_model.keras\")\n",
        "print(\"Model loaded successfully!\")\n",
        "\n"
      ],
      "metadata": {
        "colab": {
          "base_uri": "https://localhost:8080/"
        },
        "id": "tM9Rn_9IQDQu",
        "outputId": "78dbe456-6133-463e-a321-fc01693c4dae"
      },
      "execution_count": 6,
      "outputs": [
        {
          "output_type": "stream",
          "name": "stdout",
          "text": [
            "Model loaded successfully!\n"
          ]
        },
        {
          "output_type": "stream",
          "name": "stderr",
          "text": [
            "/usr/local/lib/python3.10/dist-packages/keras/src/saving/saving_lib.py:713: UserWarning: Skipping variable loading for optimizer 'adam', because it has 14 variables whereas the saved optimizer has 2 variables. \n",
            "  saveable.load_own_variables(weights_store.get(inner_path))\n"
          ]
        }
      ]
    }
  ]
}